{
 "cells": [
  {
   "cell_type": "markdown",
   "metadata": {
    "toc": true
   },
   "source": [
    "<h1>Table of Contents<span class=\"tocSkip\"></span></h1>\n",
    "<div class=\"toc\"><ul class=\"toc-item\"></ul></div>"
   ]
  },
  {
   "cell_type": "code",
   "execution_count": 1,
   "metadata": {},
   "outputs": [],
   "source": [
    "import pandas as pd\n",
    "import numpy as np\n",
    "from matplotlib import pyplot as plt\n",
    "import seaborn as sns"
   ]
  },
  {
   "cell_type": "code",
   "execution_count": 19,
   "metadata": {},
   "outputs": [],
   "source": [
    "df = pd.read_csv('../data/clustered_players.csv')\n",
    "df_bt = pd.read_csv('../data/boxscore_traditional.csv')"
   ]
  },
  {
   "cell_type": "code",
   "execution_count": 24,
   "metadata": {},
   "outputs": [
    {
     "data": {
      "text/plain": [
       "Index(['PLAYER_NAME', 'PCT_FGA_2PT', 'PCT_FGA_3PT', 'PCT_PTS_2PT',\n",
       "       'PCT_PTS_2PT_MR', 'PCT_PTS_3PT', 'PCT_PTS_FB', 'PCT_PTS_FT',\n",
       "       'PCT_PTS_OFF_TOV', 'PCT_PTS_PAINT', 'PCT_AST_2PM', 'PCT_UAST_2PM',\n",
       "       'PCT_AST_3PM', 'PCT_UAST_3PM', 'PCT_AST_FGM', 'PCT_UAST_FGM', 'FGM',\n",
       "       'FGA', 'FG_PCT', 'FG3M', 'FG3A', 'FG3_PCT', 'FTM', 'FTA', 'OREB',\n",
       "       'DREB', 'REB', 'AST', 'STL', 'BLK', 'PF', 'PTS', 'SPD', 'DIST', 'ORBC',\n",
       "       'DRBC', 'RBC', 'tchs_per_min', 'SAST', 'FTAST', 'PASS', 'CFGA',\n",
       "       'CFG_PCT', 'UFGA', 'UFG_PCT', 'DFGA', 'DFG_PCT', 'KMeans_label'],\n",
       "      dtype='object')"
      ]
     },
     "execution_count": 24,
     "metadata": {},
     "output_type": "execute_result"
    }
   ],
   "source": [
    "df.columns"
   ]
  },
  {
   "cell_type": "code",
   "execution_count": 75,
   "metadata": {},
   "outputs": [],
   "source": [
    "names = df[['PLAYER_NAME', 'FG3_PCT', 'FG_PCT']].sample(3)\n",
    "names['expected_pts_per_3_att'] = names['FG3_PCT']*3\n",
    "names['percent_2_att_equiv'] = names['expected_pts_per_3_att']/2"
   ]
  },
  {
   "cell_type": "code",
   "execution_count": 76,
   "metadata": {},
   "outputs": [
    {
     "data": {
      "text/html": [
       "<div>\n",
       "<style scoped>\n",
       "    .dataframe tbody tr th:only-of-type {\n",
       "        vertical-align: middle;\n",
       "    }\n",
       "\n",
       "    .dataframe tbody tr th {\n",
       "        vertical-align: top;\n",
       "    }\n",
       "\n",
       "    .dataframe thead th {\n",
       "        text-align: right;\n",
       "    }\n",
       "</style>\n",
       "<table border=\"1\" class=\"dataframe\">\n",
       "  <thead>\n",
       "    <tr style=\"text-align: right;\">\n",
       "      <th></th>\n",
       "      <th>PLAYER_NAME</th>\n",
       "      <th>FG3_PCT</th>\n",
       "      <th>FG_PCT</th>\n",
       "      <th>expected_pts_per_3_att</th>\n",
       "      <th>percent_2_att_equiv</th>\n",
       "    </tr>\n",
       "  </thead>\n",
       "  <tbody>\n",
       "    <tr>\n",
       "      <th>197</th>\n",
       "      <td>Jalen Smith</td>\n",
       "      <td>0.200000</td>\n",
       "      <td>0.416800</td>\n",
       "      <td>0.60000</td>\n",
       "      <td>0.300000</td>\n",
       "    </tr>\n",
       "    <tr>\n",
       "      <th>104</th>\n",
       "      <td>DeMarcus Cousins</td>\n",
       "      <td>0.300083</td>\n",
       "      <td>0.352833</td>\n",
       "      <td>0.90025</td>\n",
       "      <td>0.450125</td>\n",
       "    </tr>\n",
       "    <tr>\n",
       "      <th>236</th>\n",
       "      <td>Josh Hart</td>\n",
       "      <td>0.353667</td>\n",
       "      <td>0.452233</td>\n",
       "      <td>1.06100</td>\n",
       "      <td>0.530500</td>\n",
       "    </tr>\n",
       "  </tbody>\n",
       "</table>\n",
       "</div>"
      ],
      "text/plain": [
       "          PLAYER_NAME   FG3_PCT    FG_PCT  expected_pts_per_3_att  \\\n",
       "197       Jalen Smith  0.200000  0.416800                 0.60000   \n",
       "104  DeMarcus Cousins  0.300083  0.352833                 0.90025   \n",
       "236         Josh Hart  0.353667  0.452233                 1.06100   \n",
       "\n",
       "     percent_2_att_equiv  \n",
       "197             0.300000  \n",
       "104             0.450125  \n",
       "236             0.530500  "
      ]
     },
     "execution_count": 76,
     "metadata": {},
     "output_type": "execute_result"
    }
   ],
   "source": [
    "names"
   ]
  },
  {
   "cell_type": "code",
   "execution_count": 92,
   "metadata": {
    "scrolled": true
   },
   "outputs": [
    {
     "data": {
      "text/plain": [
       "FG3_PCT                      0.2\n",
       "FG_PCT                    0.4168\n",
       "expected_pts_per_3_att       0.6\n",
       "percent_2_att_equiv          0.3\n",
       "Name: 197, dtype: object"
      ]
     },
     "execution_count": 92,
     "metadata": {},
     "output_type": "execute_result"
    }
   ],
   "source": [
    "bars1"
   ]
  },
  {
   "cell_type": "code",
   "execution_count": 135,
   "metadata": {},
   "outputs": [
    {
     "data": {
      "text/plain": [
       "<Figure size 1296x720 with 0 Axes>"
      ]
     },
     "metadata": {},
     "output_type": "display_data"
    },
    {
     "data": {
      "image/png": "[encoded data removed]",
      "text/plain": [
       "<Figure size 432x288 with 1 Axes>"
      ]
     },
     "metadata": {
      "needs_background": "light"
     },
     "output_type": "display_data"
    }
   ],
   "source": [
    "labels = names['PLAYER_NAME']\n",
    "fg3_pct = names['FG3_PCT']\n",
    "exp_per_3_att = names['expected_pts_per_3_att']\n",
    "perc_2_equiv = names['percent_2_att_equiv']\n",
    "fg_pct = names['FG_PCT']\n",
    "\n",
    "plt.figure(figsize=(18,10))\n",
    "x = np.arange(len(labels))  # the label locations\n",
    "width = 0.2  # the width of the bars\n",
    "\n",
    "fig, ax = plt.subplots()\n",
    "rects1 = ax.bar(x - width*1.5, exp_per_3_att, width, label='Expected Points per 3 Point Attempt')\n",
    "rects2 = ax.bar(x - width*0.5, fg3_pct, width, label='3 Point Percent')\n",
    "rects3 = ax.bar(x + width*0.5, perc_2_equiv, width, label='Percent Equivalent on 2 Point Attempt')\n",
    "rects4 = ax.bar(x + width*1.5, fg_pct, width, label='Actual Field Goal Percentage')\n",
    "\n",
    "# Add some text for labels, title and custom x-axis tick labels, etc.\n",
    "ax.set_ylabel('Percentage')\n",
    "ax.set_title('Shooting Percentage and Expected Values \\n 2 Point vs 3 Point Shooting')\n",
    "ax.set_xticks(x)\n",
    "ax.set_xticklabels(labels)\n",
    "ax.legend(loc='upper left',fontsize=8)\n",
    "\n",
    "\n",
    "def autolabel(rects):\n",
    "    \"\"\"Attach a text label above each bar in *rects*, displaying its height.\"\"\"\n",
    "    for rect in rects:\n",
    "        height = rect.get_height()\n",
    "        ax.annotate('{}'.format(round(height,2)),\n",
    "                    xy=(rect.get_x() + rect.get_width() / 2, height),\n",
    "                    xytext=(0, 3),  # 3 points vertical offset\n",
    "                    textcoords=\"offset points\",\n",
    "                    ha='center', va='bottom')\n",
    "\n",
    "\n",
    "autolabel(rects1)\n",
    "autolabel(rects2)\n",
    "autolabel(rects3)\n",
    "autolabel(rects4)\n",
    "\n",
    "# fig.tight_layout()\n",
    "\n",
    "plt.show()"
   ]
  },
  {
   "cell_type": "code",
   "execution_count": 99,
   "metadata": {
    "scrolled": true
   },
   "outputs": [
    {
     "data": {
      "image/png": "[encoded data removed]",
      "text/plain": [
       "<Figure size 1296x720 with 1 Axes>"
      ]
     },
     "metadata": {
      "needs_background": "light"
     },
     "output_type": "display_data"
    }
   ],
   "source": [
    "#https://www.python-graph-gallery.com/11-grouped-barplot\n",
    "\n",
    "plt.figure(figsize=(18,10))\n",
    "plt.bar(x = names['PLAYER_NAME'], height= names['FG3_PCT'], label='3 Point Percent')\n",
    "plt.bar(x = names['PLAYER_NAME'], height= names['expected_pts_per_3_att'], label='Expected Points per 3 Point Attempt')\n",
    "plt.bar(x = names['PLAYER_NAME'], height= names['percent_2_att_equiv'], label='Percent Equivalent on 2 Point Attempt')\n",
    "plt.bar(x = names['PLAYER_NAME'], height= names['FG_PCT'], label='Actual Field Goal Percentage')\n",
    "\n",
    " \n",
    "# Create legend & Show graphic\n",
    "plt.legend()\n",
    "plt.show()"
   ]
  },
  {
   "cell_type": "code",
   "execution_count": null,
   "metadata": {},
   "outputs": [],
   "source": []
  }
 ],
 "metadata": {
  "kernelspec": {
   "display_name": "Python 3",
   "language": "python",
   "name": "python3"
  },
  "language_info": {
   "codemirror_mode": {
    "name": "ipython",
    "version": 3
   },
   "file_extension": ".py",
   "mimetype": "text/x-python",
   "name": "python",
   "nbconvert_exporter": "python",
   "pygments_lexer": "ipython3",
   "version": "3.8.5"
  },
  "toc": {
   "base_numbering": 1,
   "nav_menu": {},
   "number_sections": true,
   "sideBar": true,
   "skip_h1_title": false,
   "title_cell": "Table of Contents",
   "title_sidebar": "Contents",
   "toc_cell": true,
   "toc_position": {},
   "toc_section_display": true,
   "toc_window_display": false
  }
 },
 "nbformat": 4,
 "nbformat_minor": 4
}
