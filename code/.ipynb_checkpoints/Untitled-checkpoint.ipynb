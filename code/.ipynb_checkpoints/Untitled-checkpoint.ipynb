{
 "cells": [
  {
   "cell_type": "markdown",
   "metadata": {
    "toc": true
   },
   "source": [
    "<h1>Table of Contents<span class=\"tocSkip\"></span></h1>\n",
    "<div class=\"toc\"><ul class=\"toc-item\"><li><span><a href=\"#Evolution-of-Basketball\" data-toc-modified-id=\"Evolution-of-Basketball-1\"><span class=\"toc-item-num\">1&nbsp;&nbsp;</span>Evolution of Basketball</a></span><ul class=\"toc-item\"><li><span><a href=\"#Problem-Statement:\" data-toc-modified-id=\"Problem-Statement:-1.1\"><span class=\"toc-item-num\">1.1&nbsp;&nbsp;</span>Problem Statement:</a></span><ul class=\"toc-item\"><li><ul class=\"toc-item\"><li><span><a href=\"#Expected-points-for-league-average-3-point-attempt:\" data-toc-modified-id=\"Expected-points-for-league-average-3-point-attempt:-1.1.0.1\"><span class=\"toc-item-num\">1.1.0.1&nbsp;&nbsp;</span>Expected points for league average 3 point attempt:</a></span></li><li><span><a href=\"#Equivalent-percentage-needed-on-2-point-attempts:\" data-toc-modified-id=\"Equivalent-percentage-needed-on-2-point-attempts:-1.1.0.2\"><span class=\"toc-item-num\">1.1.0.2&nbsp;&nbsp;</span>Equivalent percentage needed on 2 point attempts:</a></span></li></ul></li></ul></li><li><span><a href=\"#Background\" data-toc-modified-id=\"Background-1.2\"><span class=\"toc-item-num\">1.2&nbsp;&nbsp;</span>Background</a></span><ul class=\"toc-item\"><li><span><a href=\"#Imports\" data-toc-modified-id=\"Imports-1.2.1\"><span class=\"toc-item-num\">1.2.1&nbsp;&nbsp;</span>Imports</a></span></li></ul></li><li><span><a href=\"#Background-Info\" data-toc-modified-id=\"Background-Info-1.3\"><span class=\"toc-item-num\">1.3&nbsp;&nbsp;</span>Background Info</a></span><ul class=\"toc-item\"><li><span><a href=\"#Bringing-in-2020-2021-Season-Game-Data-from-NBA-API\" data-toc-modified-id=\"Bringing-in-2020-2021-Season-Game-Data-from-NBA-API-1.3.1\"><span class=\"toc-item-num\">1.3.1&nbsp;&nbsp;</span>Bringing in 2020-2021 Season Game Data from NBA API</a></span></li></ul></li></ul></li></ul></div>"
   ]
  },
  {
   "cell_type": "markdown",
   "metadata": {},
   "source": [
    "# Evolution of Basketball"
   ]
  },
  {
   "cell_type": "markdown",
   "metadata": {},
   "source": [
    "## Problem Statement:\n",
    "\n",
    "The game of basketball in the NBA has changed drastically from when players mostly stuck to their roles to a game where traditional positions are much more fluid. I will cluster / classify players into new roles in order to update the traditional basketball positions and define their new roles."
   ]
  },
  {
   "cell_type": "markdown",
   "metadata": {},
   "source": [
    "There was a statement by a LA Clippers broadcaster, called Lawler's Law, that says generally the first team to score 100 points will win the game. Historically this has been true. However, with several teams currently averaging over 120 points per game, and league wide the average score of 112 points; 100 points isn't worth as much as it used to be."
   ]
  },
  {
   "cell_type": "markdown",
   "metadata": {},
   "source": [
    "#### Expected points for league average 3 point attempt:"
   ]
  },
  {
   "cell_type": "code",
   "execution_count": 2,
   "metadata": {
    "scrolled": true
   },
   "outputs": [
    {
     "data": {
      "text/plain": [
       "1.095"
      ]
     },
     "execution_count": 2,
     "metadata": {},
     "output_type": "execute_result"
    }
   ],
   "source": [
    "#https://www.basketball-reference.com/leagues/NBA_2021.html\n",
    ".365*3"
   ]
  },
  {
   "cell_type": "markdown",
   "metadata": {},
   "source": [
    "#### Equivalent percentage needed on 2 point attempts:"
   ]
  },
  {
   "cell_type": "code",
   "execution_count": 1,
   "metadata": {
    "scrolled": false
   },
   "outputs": [
    {
     "data": {
      "text/plain": [
       "0.5475"
      ]
     },
     "execution_count": 1,
     "metadata": {},
     "output_type": "execute_result"
    }
   ],
   "source": [
    ".365*3 / 2"
   ]
  },
  {
   "cell_type": "markdown",
   "metadata": {},
   "source": [
    "## Background"
   ]
  },
  {
   "cell_type": "markdown",
   "metadata": {},
   "source": [
    "The middle ranked team in the NBA by 3 point percentage made makes 36.5% of three point shots, for an expected point value of 1.095 points for every 3 point shot taken.\n",
    "\n",
    "In order to equal that with a 2 point shot, a team would have to make 54.8% of all 2 point shots.\n",
    "\n",
    "When ranking by distance from the hoop, the team with the highest shooting percentage (WAS) shoots 50% from 3 ft - 10 ft, (BKN) 49.3% from 10 ft - 16 ft, (NOP) 48.5% from 16 ft to the 3 point line. The worst shooting team from 0 ft - 3 ft has a shooting percentage of 60%.\n",
    "\n",
    "Based on data being brought in to team strategy, players and coaches figured out that it makes the most sense to either shoot very close to the basket or to shoot from the 3 point line."
   ]
  },
  {
   "cell_type": "markdown",
   "metadata": {},
   "source": [
    "### Imports"
   ]
  },
  {
   "cell_type": "code",
   "execution_count": 2,
   "metadata": {},
   "outputs": [],
   "source": [
    "import pandas as pd\n",
    "import numpy as np\n",
    "from matplotlib import pyplot as plt\n",
    "from sklearn.preprocessing import StandardScaler\n",
    "from sklearn.metrics import silhouette_score\n",
    "from sklearn.cluster import DBSCAN"
   ]
  },
  {
   "cell_type": "markdown",
   "metadata": {},
   "source": [
    "## Background Info\n",
    "\n",
    "I picked a player that has played in both a more traditional role several years ago and has expanded / evolved his style of play with the current way basketball is played at the NBA level.\n",
    "\n"
   ]
  },
  {
   "cell_type": "code",
   "execution_count": 3,
   "metadata": {},
   "outputs": [],
   "source": [
    "#https://github.com/danchyy/Basketball_Analytics/blob/master/Scripts/2018_19_season/brook_lopez_evolution/brook_lopez.ipynb\n",
    "#https://towardsdatascience.com/make-a-simple-nba-shot-chart-with-python-e5d70db45d0d\n",
    "from nba_api.stats.endpoints.shotchartdetail import ShotChartDetail\n",
    "from nba_api.stats.static.players import find_players_by_full_name\n",
    "\n",
    "lopez_id = find_players_by_full_name(\"Brook Lopez\")[0]['id']\n"
   ]
  },
  {
   "cell_type": "code",
   "execution_count": 4,
   "metadata": {},
   "outputs": [
    {
     "data": {
      "text/plain": [
       "201572"
      ]
     },
     "execution_count": 4,
     "metadata": {},
     "output_type": "execute_result"
    }
   ],
   "source": [
    "lopez_id"
   ]
  },
  {
   "cell_type": "code",
   "execution_count": 5,
   "metadata": {},
   "outputs": [],
   "source": [
    "from matplotlib.patches import Circle, Rectangle, Arc\n",
    "\n",
    "# Amazing function by Bradley Fay for plotting the nba court\n",
    "# source: https://github.com/bradleyfay/py-Goldsberry/blob/master/docs/Visualizing%20NBA%20Shots%20with%20py-Goldsberry.ipynb\n",
    "def draw_court(ax=None, color='black', lw=2, outer_lines=False):\n",
    "    # If an axes object isn't provided to plot onto, just get current one\n",
    "    if ax is None:\n",
    "        ax = plt.gca()\n",
    "\n",
    "    # Create the various parts of an NBA basketball court\n",
    "\n",
    "    # Create the basketball hoop\n",
    "    # Diameter of a hoop is 18\" so it has a radius of 9\", which is a value\n",
    "    # 7.5 in our coordinate system\n",
    "    hoop = Circle((0, 0), radius=7.5, linewidth=lw, color=color, fill=False)\n",
    "\n",
    "    # Create backboard\n",
    "    backboard = Rectangle((-30, -7.5), 60, -1, linewidth=lw, color=color)\n",
    "\n",
    "    # The paint\n",
    "    # Create the outer box 0f the paint, width=16ft, height=19ft\n",
    "    outer_box = Rectangle((-80, -47.5), 160, 190, linewidth=lw, color=color,\n",
    "                          fill=False, zorder=0)\n",
    "    # Create the inner box of the paint, widt=12ft, height=19ft\n",
    "    inner_box = Rectangle((-60, -47.5), 120, 190, linewidth=lw, color=color,\n",
    "                          fill=False, zorder=0)\n",
    "\n",
    "    # Create free throw top arc\n",
    "    top_free_throw = Arc((0, 142.5), 120, 120, theta1=0, theta2=180,\n",
    "                         linewidth=lw, color=color, fill=False, zorder=0)\n",
    "    # Create free throw bottom arc\n",
    "    bottom_free_throw = Arc((0, 142.5), 120, 120, theta1=180, theta2=0,\n",
    "                            linewidth=lw, color=color, linestyle='dashed', zorder=0)\n",
    "    # Restricted Zone, it is an arc with 4ft radius from center of the hoop\n",
    "    restricted = Arc((0, 0), 80, 80, theta1=0, theta2=180, linewidth=lw,\n",
    "                     color=color, zorder=0)\n",
    "\n",
    "    # Three point line\n",
    "    # Create the side 3pt lines, they are 14ft long before they begin to arc\n",
    "    corner_three_a = Rectangle((-220, -47.5), 0, 138, linewidth=lw,\n",
    "                               color=color, zorder=0)\n",
    "    corner_three_b = Rectangle((220, -47.5), 0, 138, linewidth=lw, color=color, zorder=0)\n",
    "    # 3pt arc - center of arc will be the hoop, arc is 23'9\" away from hoop\n",
    "    # I just played around with the theta values until they lined up with the \n",
    "    # threes\n",
    "    three_arc = Arc((0, 0), 475, 475, theta1=22, theta2=158, linewidth=lw,\n",
    "                    color=color, zorder=0)\n",
    "\n",
    "    # Center Court\n",
    "    center_outer_arc = Arc((0, 422.5), 120, 120, theta1=180, theta2=0,\n",
    "                           linewidth=lw, color=color, zorder=0)\n",
    "    center_inner_arc = Arc((0, 422.5), 40, 40, theta1=180, theta2=0,\n",
    "                           linewidth=lw, color=color, zorder=0)\n",
    "\n",
    "    # List of the court elements to be plotted onto the axes\n",
    "    court_elements = [hoop, backboard, outer_box, inner_box, top_free_throw,\n",
    "                      bottom_free_throw, restricted, corner_three_a,\n",
    "                      corner_three_b, three_arc, center_outer_arc,\n",
    "                      center_inner_arc]\n",
    "\n",
    "    if outer_lines:\n",
    "        # Draw the half court line, baseline and side out bound lines\n",
    "        outer_lines = Rectangle((-250, -48), 500, 470, linewidth=lw,\n",
    "                                color=color, fill=False)\n",
    "        court_elements.append(outer_lines)\n",
    "\n",
    "    # Add the court elements onto the axes\n",
    "    for element in court_elements:\n",
    "        ax.add_patch(element)\n",
    "\n",
    "    return ax"
   ]
  },
  {
   "cell_type": "code",
   "execution_count": null,
   "metadata": {},
   "outputs": [],
   "source": []
  },
  {
   "cell_type": "markdown",
   "metadata": {},
   "source": [
    "### Bringing in 2020-2021 Season Game Data from NBA API\n",
    "\n",
    "https://github.com/swar/nba_api"
   ]
  },
  {
   "cell_type": "code",
   "execution_count": 6,
   "metadata": {
    "scrolled": true
   },
   "outputs": [],
   "source": [
    "df_p = pd.read_csv('../data/play_by_play.csv')"
   ]
  },
  {
   "cell_type": "code",
   "execution_count": 7,
   "metadata": {},
   "outputs": [
    {
     "data": {
      "text/plain": [
       "Index(['GAME_ID', 'EVENTNUM', 'EVENTMSGTYPE', 'EVENTMSGACTIONTYPE', 'PERIOD',\n",
       "       'WCTIMESTRING', 'PCTIMESTRING', 'HOMEDESCRIPTION', 'NEUTRALDESCRIPTION',\n",
       "       'VISITORDESCRIPTION', 'SCORE', 'SCOREMARGIN', 'PERSON1TYPE',\n",
       "       'PLAYER1_ID', 'PLAYER1_NAME', 'PLAYER1_TEAM_ID', 'PLAYER1_TEAM_CITY',\n",
       "       'PLAYER1_TEAM_NICKNAME', 'PLAYER1_TEAM_ABBREVIATION', 'PERSON2TYPE',\n",
       "       'PLAYER2_ID', 'PLAYER2_NAME', 'PLAYER2_TEAM_ID', 'PLAYER2_TEAM_CITY',\n",
       "       'PLAYER2_TEAM_NICKNAME', 'PLAYER2_TEAM_ABBREVIATION', 'PERSON3TYPE',\n",
       "       'PLAYER3_ID', 'PLAYER3_NAME', 'PLAYER3_TEAM_ID', 'PLAYER3_TEAM_CITY',\n",
       "       'PLAYER3_TEAM_NICKNAME', 'PLAYER3_TEAM_ABBREVIATION',\n",
       "       'VIDEO_AVAILABLE_FLAG'],\n",
       "      dtype='object')"
      ]
     },
     "execution_count": 7,
     "metadata": {},
     "output_type": "execute_result"
    }
   ],
   "source": [
    "df_p.columns"
   ]
  },
  {
   "cell_type": "code",
   "execution_count": 8,
   "metadata": {
    "scrolled": false
   },
   "outputs": [
    {
     "data": {
      "text/html": [
       "<div>\n",
       "<style scoped>\n",
       "    .dataframe tbody tr th:only-of-type {\n",
       "        vertical-align: middle;\n",
       "    }\n",
       "\n",
       "    .dataframe tbody tr th {\n",
       "        vertical-align: top;\n",
       "    }\n",
       "\n",
       "    .dataframe thead th {\n",
       "        text-align: right;\n",
       "    }\n",
       "</style>\n",
       "<table border=\"1\" class=\"dataframe\">\n",
       "  <thead>\n",
       "    <tr style=\"text-align: right;\">\n",
       "      <th></th>\n",
       "      <th>GAME_ID</th>\n",
       "      <th>EVENTNUM</th>\n",
       "      <th>EVENTMSGTYPE</th>\n",
       "      <th>EVENTMSGACTIONTYPE</th>\n",
       "      <th>PERIOD</th>\n",
       "      <th>WCTIMESTRING</th>\n",
       "      <th>PCTIMESTRING</th>\n",
       "      <th>HOMEDESCRIPTION</th>\n",
       "      <th>NEUTRALDESCRIPTION</th>\n",
       "      <th>VISITORDESCRIPTION</th>\n",
       "      <th>...</th>\n",
       "      <th>PLAYER2_TEAM_NICKNAME</th>\n",
       "      <th>PLAYER2_TEAM_ABBREVIATION</th>\n",
       "      <th>PERSON3TYPE</th>\n",
       "      <th>PLAYER3_ID</th>\n",
       "      <th>PLAYER3_NAME</th>\n",
       "      <th>PLAYER3_TEAM_ID</th>\n",
       "      <th>PLAYER3_TEAM_CITY</th>\n",
       "      <th>PLAYER3_TEAM_NICKNAME</th>\n",
       "      <th>PLAYER3_TEAM_ABBREVIATION</th>\n",
       "      <th>VIDEO_AVAILABLE_FLAG</th>\n",
       "    </tr>\n",
       "  </thead>\n",
       "  <tbody>\n",
       "    <tr>\n",
       "      <th>0</th>\n",
       "      <td>22000482</td>\n",
       "      <td>2</td>\n",
       "      <td>12</td>\n",
       "      <td>0</td>\n",
       "      <td>1</td>\n",
       "      <td>7:42 PM</td>\n",
       "      <td>12:00</td>\n",
       "      <td>NaN</td>\n",
       "      <td>NaN</td>\n",
       "      <td>NaN</td>\n",
       "      <td>...</td>\n",
       "      <td>NaN</td>\n",
       "      <td>NaN</td>\n",
       "      <td>0</td>\n",
       "      <td>0</td>\n",
       "      <td>NaN</td>\n",
       "      <td>NaN</td>\n",
       "      <td>NaN</td>\n",
       "      <td>NaN</td>\n",
       "      <td>NaN</td>\n",
       "      <td>0</td>\n",
       "    </tr>\n",
       "    <tr>\n",
       "      <th>1</th>\n",
       "      <td>22000482</td>\n",
       "      <td>4</td>\n",
       "      <td>10</td>\n",
       "      <td>0</td>\n",
       "      <td>1</td>\n",
       "      <td>7:42 PM</td>\n",
       "      <td>12:00</td>\n",
       "      <td>Jump Ball Jordan vs. Bagley III: Tip to Brown</td>\n",
       "      <td>NaN</td>\n",
       "      <td>NaN</td>\n",
       "      <td>...</td>\n",
       "      <td>Kings</td>\n",
       "      <td>SAC</td>\n",
       "      <td>4</td>\n",
       "      <td>1628971</td>\n",
       "      <td>Bruce Brown</td>\n",
       "      <td>1.610613e+09</td>\n",
       "      <td>Brooklyn</td>\n",
       "      <td>Nets</td>\n",
       "      <td>BKN</td>\n",
       "      <td>1</td>\n",
       "    </tr>\n",
       "    <tr>\n",
       "      <th>2</th>\n",
       "      <td>22000482</td>\n",
       "      <td>7</td>\n",
       "      <td>1</td>\n",
       "      <td>79</td>\n",
       "      <td>1</td>\n",
       "      <td>7:42 PM</td>\n",
       "      <td>11:39</td>\n",
       "      <td>Irving 14' Pullup Jump Shot (2 PTS)</td>\n",
       "      <td>NaN</td>\n",
       "      <td>NaN</td>\n",
       "      <td>...</td>\n",
       "      <td>NaN</td>\n",
       "      <td>NaN</td>\n",
       "      <td>0</td>\n",
       "      <td>0</td>\n",
       "      <td>NaN</td>\n",
       "      <td>NaN</td>\n",
       "      <td>NaN</td>\n",
       "      <td>NaN</td>\n",
       "      <td>NaN</td>\n",
       "      <td>1</td>\n",
       "    </tr>\n",
       "    <tr>\n",
       "      <th>3</th>\n",
       "      <td>22000482</td>\n",
       "      <td>8</td>\n",
       "      <td>2</td>\n",
       "      <td>79</td>\n",
       "      <td>1</td>\n",
       "      <td>7:42 PM</td>\n",
       "      <td>11:25</td>\n",
       "      <td>NaN</td>\n",
       "      <td>NaN</td>\n",
       "      <td>MISS Fox 11' Pullup Jump Shot</td>\n",
       "      <td>...</td>\n",
       "      <td>NaN</td>\n",
       "      <td>NaN</td>\n",
       "      <td>0</td>\n",
       "      <td>0</td>\n",
       "      <td>NaN</td>\n",
       "      <td>NaN</td>\n",
       "      <td>NaN</td>\n",
       "      <td>NaN</td>\n",
       "      <td>NaN</td>\n",
       "      <td>1</td>\n",
       "    </tr>\n",
       "    <tr>\n",
       "      <th>4</th>\n",
       "      <td>22000482</td>\n",
       "      <td>9</td>\n",
       "      <td>4</td>\n",
       "      <td>0</td>\n",
       "      <td>1</td>\n",
       "      <td>7:42 PM</td>\n",
       "      <td>11:22</td>\n",
       "      <td>Jordan REBOUND (Off:0 Def:1)</td>\n",
       "      <td>NaN</td>\n",
       "      <td>NaN</td>\n",
       "      <td>...</td>\n",
       "      <td>NaN</td>\n",
       "      <td>NaN</td>\n",
       "      <td>0</td>\n",
       "      <td>0</td>\n",
       "      <td>NaN</td>\n",
       "      <td>NaN</td>\n",
       "      <td>NaN</td>\n",
       "      <td>NaN</td>\n",
       "      <td>NaN</td>\n",
       "      <td>1</td>\n",
       "    </tr>\n",
       "  </tbody>\n",
       "</table>\n",
       "<p>5 rows × 34 columns</p>\n",
       "</div>"
      ],
      "text/plain": [
       "    GAME_ID  EVENTNUM  EVENTMSGTYPE  EVENTMSGACTIONTYPE  PERIOD WCTIMESTRING  \\\n",
       "0  22000482         2            12                   0       1      7:42 PM   \n",
       "1  22000482         4            10                   0       1      7:42 PM   \n",
       "2  22000482         7             1                  79       1      7:42 PM   \n",
       "3  22000482         8             2                  79       1      7:42 PM   \n",
       "4  22000482         9             4                   0       1      7:42 PM   \n",
       "\n",
       "  PCTIMESTRING                                HOMEDESCRIPTION  \\\n",
       "0        12:00                                            NaN   \n",
       "1        12:00  Jump Ball Jordan vs. Bagley III: Tip to Brown   \n",
       "2        11:39            Irving 14' Pullup Jump Shot (2 PTS)   \n",
       "3        11:25                                            NaN   \n",
       "4        11:22                   Jordan REBOUND (Off:0 Def:1)   \n",
       "\n",
       "   NEUTRALDESCRIPTION             VISITORDESCRIPTION  ...  \\\n",
       "0                 NaN                            NaN  ...   \n",
       "1                 NaN                            NaN  ...   \n",
       "2                 NaN                            NaN  ...   \n",
       "3                 NaN  MISS Fox 11' Pullup Jump Shot  ...   \n",
       "4                 NaN                            NaN  ...   \n",
       "\n",
       "  PLAYER2_TEAM_NICKNAME PLAYER2_TEAM_ABBREVIATION  PERSON3TYPE  PLAYER3_ID  \\\n",
       "0                   NaN                       NaN            0           0   \n",
       "1                 Kings                       SAC            4     1628971   \n",
       "2                   NaN                       NaN            0           0   \n",
       "3                   NaN                       NaN            0           0   \n",
       "4                   NaN                       NaN            0           0   \n",
       "\n",
       "  PLAYER3_NAME  PLAYER3_TEAM_ID PLAYER3_TEAM_CITY PLAYER3_TEAM_NICKNAME  \\\n",
       "0          NaN              NaN               NaN                   NaN   \n",
       "1  Bruce Brown     1.610613e+09          Brooklyn                  Nets   \n",
       "2          NaN              NaN               NaN                   NaN   \n",
       "3          NaN              NaN               NaN                   NaN   \n",
       "4          NaN              NaN               NaN                   NaN   \n",
       "\n",
       "  PLAYER3_TEAM_ABBREVIATION  VIDEO_AVAILABLE_FLAG  \n",
       "0                       NaN                     0  \n",
       "1                       BKN                     1  \n",
       "2                       NaN                     1  \n",
       "3                       NaN                     1  \n",
       "4                       NaN                     1  \n",
       "\n",
       "[5 rows x 34 columns]"
      ]
     },
     "execution_count": 8,
     "metadata": {},
     "output_type": "execute_result"
    }
   ],
   "source": [
    "df_p.head()"
   ]
  },
  {
   "cell_type": "code",
   "execution_count": 9,
   "metadata": {
    "scrolled": true
   },
   "outputs": [],
   "source": [
    "kings_nets = (df_p[['PCTIMESTRING', 'PERIOD', 'SCORE', 'SCOREMARGIN', 'PLAYER1_TEAM_ABBREVIATION']][(df_p['GAME_ID'] == 22000482)].dropna())"
   ]
  },
  {
   "cell_type": "code",
   "execution_count": 10,
   "metadata": {
    "scrolled": true
   },
   "outputs": [
    {
     "data": {
      "text/html": [
       "<div>\n",
       "<style scoped>\n",
       "    .dataframe tbody tr th:only-of-type {\n",
       "        vertical-align: middle;\n",
       "    }\n",
       "\n",
       "    .dataframe tbody tr th {\n",
       "        vertical-align: top;\n",
       "    }\n",
       "\n",
       "    .dataframe thead th {\n",
       "        text-align: right;\n",
       "    }\n",
       "</style>\n",
       "<table border=\"1\" class=\"dataframe\">\n",
       "  <thead>\n",
       "    <tr style=\"text-align: right;\">\n",
       "      <th></th>\n",
       "      <th>PCTIMESTRING</th>\n",
       "      <th>PERIOD</th>\n",
       "      <th>SCORE</th>\n",
       "      <th>SCOREMARGIN</th>\n",
       "      <th>PLAYER1_TEAM_ABBREVIATION</th>\n",
       "    </tr>\n",
       "  </thead>\n",
       "  <tbody>\n",
       "    <tr>\n",
       "      <th>6751</th>\n",
       "      <td>1:22</td>\n",
       "      <td>4</td>\n",
       "      <td>113 - 125</td>\n",
       "      <td>12</td>\n",
       "      <td>BKN</td>\n",
       "    </tr>\n",
       "    <tr>\n",
       "      <th>6755</th>\n",
       "      <td>1:01</td>\n",
       "      <td>4</td>\n",
       "      <td>113 - 126</td>\n",
       "      <td>13</td>\n",
       "      <td>BKN</td>\n",
       "    </tr>\n",
       "    <tr>\n",
       "      <th>6756</th>\n",
       "      <td>1:01</td>\n",
       "      <td>4</td>\n",
       "      <td>113 - 127</td>\n",
       "      <td>14</td>\n",
       "      <td>BKN</td>\n",
       "    </tr>\n",
       "    <tr>\n",
       "      <th>6757</th>\n",
       "      <td>0:49</td>\n",
       "      <td>4</td>\n",
       "      <td>115 - 127</td>\n",
       "      <td>12</td>\n",
       "      <td>SAC</td>\n",
       "    </tr>\n",
       "    <tr>\n",
       "      <th>6760</th>\n",
       "      <td>0:16</td>\n",
       "      <td>4</td>\n",
       "      <td>118 - 127</td>\n",
       "      <td>9</td>\n",
       "      <td>SAC</td>\n",
       "    </tr>\n",
       "  </tbody>\n",
       "</table>\n",
       "</div>"
      ],
      "text/plain": [
       "     PCTIMESTRING  PERIOD      SCORE SCOREMARGIN PLAYER1_TEAM_ABBREVIATION\n",
       "6751         1:22       4  113 - 125          12                       BKN\n",
       "6755         1:01       4  113 - 126          13                       BKN\n",
       "6756         1:01       4  113 - 127          14                       BKN\n",
       "6757         0:49       4  115 - 127          12                       SAC\n",
       "6760         0:16       4  118 - 127           9                       SAC"
      ]
     },
     "execution_count": 10,
     "metadata": {},
     "output_type": "execute_result"
    }
   ],
   "source": [
    "kings_nets.tail()"
   ]
  },
  {
   "cell_type": "code",
   "execution_count": 11,
   "metadata": {
    "scrolled": true
   },
   "outputs": [
    {
     "data": {
      "text/plain": [
       "2       11:39\n",
       "5       11:16\n",
       "10      10:24\n",
       "11      10:07\n",
       "15       9:31\n",
       "        ...  \n",
       "6751     1:22\n",
       "6755     1:01\n",
       "6756     1:01\n",
       "6757     0:49\n",
       "6760     0:16\n",
       "Name: PCTIMESTRING, Length: 248, dtype: object"
      ]
     },
     "execution_count": 11,
     "metadata": {},
     "output_type": "execute_result"
    }
   ],
   "source": [
    "kings_nets['PCTIMESTRING']"
   ]
  },
  {
   "cell_type": "code",
   "execution_count": 12,
   "metadata": {
    "scrolled": false
   },
   "outputs": [
    {
     "data": {
      "text/plain": [
       "[<matplotlib.lines.Line2D at 0x1dc68d95f10>]"
      ]
     },
     "execution_count": 12,
     "metadata": {},
     "output_type": "execute_result"
    },
    {
     "data": {
      "image/png": "[encoded data removed]",
      "text/plain": [
       "<Figure size 432x288 with 1 Axes>"
      ]
     },
     "metadata": {
      "needs_background": "light"
     },
     "output_type": "display_data"
    }
   ],
   "source": [
    "plt.plot (kings_nets['PCTIMESTRING'],kings_nets['SCOREMARGIN'])"
   ]
  },
  {
   "cell_type": "code",
   "execution_count": 13,
   "metadata": {},
   "outputs": [],
   "source": [
    "df_t = pd.read_csv('../data/player_tracking.csv')"
   ]
  },
  {
   "cell_type": "code",
   "execution_count": 14,
   "metadata": {},
   "outputs": [
    {
     "data": {
      "text/html": [
       "<div>\n",
       "<style scoped>\n",
       "    .dataframe tbody tr th:only-of-type {\n",
       "        vertical-align: middle;\n",
       "    }\n",
       "\n",
       "    .dataframe tbody tr th {\n",
       "        vertical-align: top;\n",
       "    }\n",
       "\n",
       "    .dataframe thead th {\n",
       "        text-align: right;\n",
       "    }\n",
       "</style>\n",
       "<table border=\"1\" class=\"dataframe\">\n",
       "  <thead>\n",
       "    <tr style=\"text-align: right;\">\n",
       "      <th></th>\n",
       "      <th>GAME_ID</th>\n",
       "      <th>TEAM_ID</th>\n",
       "      <th>TEAM_ABBREVIATION</th>\n",
       "      <th>TEAM_CITY</th>\n",
       "      <th>PLAYER_ID</th>\n",
       "      <th>PLAYER_NAME</th>\n",
       "      <th>START_POSITION</th>\n",
       "      <th>COMMENT</th>\n",
       "      <th>MIN</th>\n",
       "      <th>SPD</th>\n",
       "      <th>...</th>\n",
       "      <th>CFGM</th>\n",
       "      <th>CFGA</th>\n",
       "      <th>CFG_PCT</th>\n",
       "      <th>UFGM</th>\n",
       "      <th>UFGA</th>\n",
       "      <th>UFG_PCT</th>\n",
       "      <th>FG_PCT</th>\n",
       "      <th>DFGM</th>\n",
       "      <th>DFGA</th>\n",
       "      <th>DFG_PCT</th>\n",
       "    </tr>\n",
       "  </thead>\n",
       "  <tbody>\n",
       "    <tr>\n",
       "      <th>0</th>\n",
       "      <td>22000482</td>\n",
       "      <td>1610612758</td>\n",
       "      <td>SAC</td>\n",
       "      <td>Sacramento</td>\n",
       "      <td>203084</td>\n",
       "      <td>Harrison Barnes</td>\n",
       "      <td>F</td>\n",
       "      <td>NaN</td>\n",
       "      <td>36:42</td>\n",
       "      <td>0.0</td>\n",
       "      <td>...</td>\n",
       "      <td>0</td>\n",
       "      <td>0</td>\n",
       "      <td>0.0</td>\n",
       "      <td>0</td>\n",
       "      <td>0</td>\n",
       "      <td>0.0</td>\n",
       "      <td>0.636</td>\n",
       "      <td>0</td>\n",
       "      <td>0</td>\n",
       "      <td>0.0</td>\n",
       "    </tr>\n",
       "    <tr>\n",
       "      <th>1</th>\n",
       "      <td>22000482</td>\n",
       "      <td>1610612758</td>\n",
       "      <td>SAC</td>\n",
       "      <td>Sacramento</td>\n",
       "      <td>1628963</td>\n",
       "      <td>Marvin Bagley III</td>\n",
       "      <td>F</td>\n",
       "      <td>NaN</td>\n",
       "      <td>30:13</td>\n",
       "      <td>0.0</td>\n",
       "      <td>...</td>\n",
       "      <td>0</td>\n",
       "      <td>0</td>\n",
       "      <td>0.0</td>\n",
       "      <td>0</td>\n",
       "      <td>0</td>\n",
       "      <td>0.0</td>\n",
       "      <td>0.500</td>\n",
       "      <td>0</td>\n",
       "      <td>0</td>\n",
       "      <td>0.0</td>\n",
       "    </tr>\n",
       "    <tr>\n",
       "      <th>2</th>\n",
       "      <td>22000482</td>\n",
       "      <td>1610612758</td>\n",
       "      <td>SAC</td>\n",
       "      <td>Sacramento</td>\n",
       "      <td>1626158</td>\n",
       "      <td>Richaun Holmes</td>\n",
       "      <td>C</td>\n",
       "      <td>NaN</td>\n",
       "      <td>26:17</td>\n",
       "      <td>0.0</td>\n",
       "      <td>...</td>\n",
       "      <td>0</td>\n",
       "      <td>0</td>\n",
       "      <td>0.0</td>\n",
       "      <td>0</td>\n",
       "      <td>0</td>\n",
       "      <td>0.0</td>\n",
       "      <td>0.750</td>\n",
       "      <td>0</td>\n",
       "      <td>0</td>\n",
       "      <td>0.0</td>\n",
       "    </tr>\n",
       "    <tr>\n",
       "      <th>3</th>\n",
       "      <td>22000482</td>\n",
       "      <td>1610612758</td>\n",
       "      <td>SAC</td>\n",
       "      <td>Sacramento</td>\n",
       "      <td>1627741</td>\n",
       "      <td>Buddy Hield</td>\n",
       "      <td>G</td>\n",
       "      <td>NaN</td>\n",
       "      <td>36:34</td>\n",
       "      <td>0.0</td>\n",
       "      <td>...</td>\n",
       "      <td>0</td>\n",
       "      <td>0</td>\n",
       "      <td>0.0</td>\n",
       "      <td>0</td>\n",
       "      <td>0</td>\n",
       "      <td>0.0</td>\n",
       "      <td>0.333</td>\n",
       "      <td>0</td>\n",
       "      <td>0</td>\n",
       "      <td>0.0</td>\n",
       "    </tr>\n",
       "    <tr>\n",
       "      <th>4</th>\n",
       "      <td>22000482</td>\n",
       "      <td>1610612758</td>\n",
       "      <td>SAC</td>\n",
       "      <td>Sacramento</td>\n",
       "      <td>1628368</td>\n",
       "      <td>De'Aaron Fox</td>\n",
       "      <td>G</td>\n",
       "      <td>NaN</td>\n",
       "      <td>38:29</td>\n",
       "      <td>0.0</td>\n",
       "      <td>...</td>\n",
       "      <td>0</td>\n",
       "      <td>0</td>\n",
       "      <td>0.0</td>\n",
       "      <td>0</td>\n",
       "      <td>0</td>\n",
       "      <td>0.0</td>\n",
       "      <td>0.500</td>\n",
       "      <td>0</td>\n",
       "      <td>0</td>\n",
       "      <td>0.0</td>\n",
       "    </tr>\n",
       "  </tbody>\n",
       "</table>\n",
       "<p>5 rows × 29 columns</p>\n",
       "</div>"
      ],
      "text/plain": [
       "    GAME_ID     TEAM_ID TEAM_ABBREVIATION   TEAM_CITY  PLAYER_ID  \\\n",
       "0  22000482  1610612758               SAC  Sacramento     203084   \n",
       "1  22000482  1610612758               SAC  Sacramento    1628963   \n",
       "2  22000482  1610612758               SAC  Sacramento    1626158   \n",
       "3  22000482  1610612758               SAC  Sacramento    1627741   \n",
       "4  22000482  1610612758               SAC  Sacramento    1628368   \n",
       "\n",
       "         PLAYER_NAME START_POSITION COMMENT    MIN  SPD  ...  CFGM  CFGA  \\\n",
       "0    Harrison Barnes              F     NaN  36:42  0.0  ...     0     0   \n",
       "1  Marvin Bagley III              F     NaN  30:13  0.0  ...     0     0   \n",
       "2     Richaun Holmes              C     NaN  26:17  0.0  ...     0     0   \n",
       "3        Buddy Hield              G     NaN  36:34  0.0  ...     0     0   \n",
       "4       De'Aaron Fox              G     NaN  38:29  0.0  ...     0     0   \n",
       "\n",
       "   CFG_PCT  UFGM  UFGA  UFG_PCT  FG_PCT  DFGM  DFGA  DFG_PCT  \n",
       "0      0.0     0     0      0.0   0.636     0     0      0.0  \n",
       "1      0.0     0     0      0.0   0.500     0     0      0.0  \n",
       "2      0.0     0     0      0.0   0.750     0     0      0.0  \n",
       "3      0.0     0     0      0.0   0.333     0     0      0.0  \n",
       "4      0.0     0     0      0.0   0.500     0     0      0.0  \n",
       "\n",
       "[5 rows x 29 columns]"
      ]
     },
     "execution_count": 14,
     "metadata": {},
     "output_type": "execute_result"
    }
   ],
   "source": [
    "df_t.head()"
   ]
  },
  {
   "cell_type": "code",
   "execution_count": 15,
   "metadata": {
    "scrolled": true
   },
   "outputs": [
    {
     "data": {
      "text/plain": [
       "GAME_ID                  0\n",
       "TEAM_ID                  0\n",
       "TEAM_ABBREVIATION        0\n",
       "TEAM_CITY                0\n",
       "PLAYER_ID                0\n",
       "PLAYER_NAME              0\n",
       "START_POSITION       15292\n",
       "COMMENT              19678\n",
       "MIN                      0\n",
       "SPD                      0\n",
       "DIST                     0\n",
       "ORBC                     0\n",
       "DRBC                     0\n",
       "RBC                      0\n",
       "TCHS                     0\n",
       "SAST                     0\n",
       "FTAST                    0\n",
       "PASS                     0\n",
       "AST                      0\n",
       "CFGM                     0\n",
       "CFGA                     0\n",
       "CFG_PCT                  0\n",
       "UFGM                     0\n",
       "UFGA                     0\n",
       "UFG_PCT                  0\n",
       "FG_PCT                   0\n",
       "DFGM                     0\n",
       "DFGA                     0\n",
       "DFG_PCT                  0\n",
       "dtype: int64"
      ]
     },
     "execution_count": 15,
     "metadata": {},
     "output_type": "execute_result"
    }
   ],
   "source": [
    "df_t.isna().sum()"
   ]
  },
  {
   "cell_type": "code",
   "execution_count": 16,
   "metadata": {},
   "outputs": [
    {
     "data": {
      "text/plain": [
       "GAME_ID                int64\n",
       "TEAM_ID                int64\n",
       "TEAM_ABBREVIATION     object\n",
       "TEAM_CITY             object\n",
       "PLAYER_ID              int64\n",
       "PLAYER_NAME           object\n",
       "START_POSITION        object\n",
       "COMMENT               object\n",
       "MIN                   object\n",
       "SPD                  float64\n",
       "DIST                 float64\n",
       "ORBC                   int64\n",
       "DRBC                   int64\n",
       "RBC                    int64\n",
       "TCHS                   int64\n",
       "SAST                   int64\n",
       "FTAST                  int64\n",
       "PASS                   int64\n",
       "AST                    int64\n",
       "CFGM                   int64\n",
       "CFGA                   int64\n",
       "CFG_PCT              float64\n",
       "UFGM                   int64\n",
       "UFGA                   int64\n",
       "UFG_PCT              float64\n",
       "FG_PCT               float64\n",
       "DFGM                   int64\n",
       "DFGA                   int64\n",
       "DFG_PCT              float64\n",
       "dtype: object"
      ]
     },
     "execution_count": 16,
     "metadata": {},
     "output_type": "execute_result"
    }
   ],
   "source": [
    "df_t.dtypes"
   ]
  },
  {
   "cell_type": "code",
   "execution_count": 17,
   "metadata": {},
   "outputs": [],
   "source": [
    "xcols=['SPD', 'DIST', 'ORBC', 'DRBC', 'RBC', 'TCHS', 'SAST', 'FTAST', 'PASS', 'AST', 'CFGA', 'CFG_PCT', 'UFGA', 'UFG_PCT', 'DFGA', 'DFG_PCT']"
   ]
  },
  {
   "cell_type": "code",
   "execution_count": 18,
   "metadata": {},
   "outputs": [],
   "source": [
    "X = df_t[['PLAYER_NAME','SPD', 'DIST', 'ORBC', 'DRBC', 'RBC', 'TCHS', 'SAST', 'FTAST', 'PASS', 'AST', 'CFGA', 'CFG_PCT', 'UFGA', 'UFG_PCT', 'DFGA', 'DFG_PCT']]"
   ]
  },
  {
   "cell_type": "code",
   "execution_count": 19,
   "metadata": {},
   "outputs": [],
   "source": [
    "X = X[X['SPD'] != 0]"
   ]
  },
  {
   "cell_type": "code",
   "execution_count": 20,
   "metadata": {},
   "outputs": [
    {
     "name": "stderr",
     "output_type": "stream",
     "text": [
      "<ipython-input-20-4dbab589c4f6>:1: FutureWarning: Indexing with multiple keys (implicitly converted to a tuple of keys) will be deprecated, use a list instead.\n",
      "  X = X.groupby('PLAYER_NAME')['SPD', 'RBC', 'TCHS', 'SAST', 'FTAST', 'PASS', 'AST', 'CFG_PCT', 'UFG_PCT', 'DFG_PCT'].mean()\n"
     ]
    }
   ],
   "source": [
    "X = X.groupby('PLAYER_NAME')['SPD', 'RBC', 'TCHS', 'SAST', 'FTAST', 'PASS', 'AST', 'CFG_PCT', 'UFG_PCT', 'DFG_PCT'].mean()"
   ]
  },
  {
   "cell_type": "code",
   "execution_count": 21,
   "metadata": {},
   "outputs": [],
   "source": [
    "ss = StandardScaler()"
   ]
  },
  {
   "cell_type": "code",
   "execution_count": 22,
   "metadata": {},
   "outputs": [],
   "source": [
    "Xs = ss.fit_transform(X)\n",
    "dbs = DBSCAN(eps=1, min_samples=3)"
   ]
  },
  {
   "cell_type": "code",
   "execution_count": 23,
   "metadata": {},
   "outputs": [
    {
     "data": {
      "text/plain": [
       "DBSCAN(eps=1, min_samples=3)"
      ]
     },
     "execution_count": 23,
     "metadata": {},
     "output_type": "execute_result"
    }
   ],
   "source": [
    "dbs.fit(Xs)"
   ]
  },
  {
   "cell_type": "code",
   "execution_count": 24,
   "metadata": {},
   "outputs": [],
   "source": [
    "X['cluster'] = dbs.labels_"
   ]
  },
  {
   "cell_type": "code",
   "execution_count": 25,
   "metadata": {
    "scrolled": false
   },
   "outputs": [
    {
     "data": {
      "text/plain": [
       "-0.45467097337826407"
      ]
     },
     "execution_count": 25,
     "metadata": {},
     "output_type": "execute_result"
    }
   ],
   "source": [
    "silhouette_score(X, dbs.labels_)"
   ]
  },
  {
   "cell_type": "code",
   "execution_count": 27,
   "metadata": {
    "scrolled": true
   },
   "outputs": [
    {
     "data": {
      "text/plain": [
       "array([-1,  0,  1, 11,  2,  3,  4, 10,  7, 12,  5,  6,  9,  8],\n",
       "      dtype=int64)"
      ]
     },
     "execution_count": 27,
     "metadata": {},
     "output_type": "execute_result"
    }
   ],
   "source": [
    "X['cluster'].unique()"
   ]
  },
  {
   "cell_type": "code",
   "execution_count": 28,
   "metadata": {},
   "outputs": [
    {
     "data": {
      "text/plain": [
       "-1     0.578189\n",
       " 0     0.314815\n",
       " 1     0.024691\n",
       " 4     0.014403\n",
       " 7     0.012346\n",
       " 12    0.006173\n",
       " 11    0.006173\n",
       " 10    0.006173\n",
       " 9     0.006173\n",
       " 8     0.006173\n",
       " 6     0.006173\n",
       " 5     0.006173\n",
       " 3     0.006173\n",
       " 2     0.006173\n",
       "Name: cluster, dtype: float64"
      ]
     },
     "execution_count": 28,
     "metadata": {},
     "output_type": "execute_result"
    }
   ],
   "source": [
    "X['cluster'].value_counts(normalize=True)"
   ]
  },
  {
   "cell_type": "code",
   "execution_count": 39,
   "metadata": {},
   "outputs": [
    {
     "data": {
      "text/plain": [
       "PLAYER_NAME         cluster\n",
       "Aaron Gordon        -1         1\n",
       "Aaron Holiday       -1         1\n",
       "Aaron Nesmith       -1         1\n",
       "Abdel Nader         -1         1\n",
       "Adam Mokoka          0         1\n",
       "Al Horford          -1         1\n",
       "Al-Farouq Aminu     -1         1\n",
       "Alec Burks           1         1\n",
       "Aleksej Pokusevski   0         1\n",
       "Alex Caruso          0         1\n",
       "Alex Len             0         1\n",
       "Alfonzo McKinnie     0         1\n",
       "Amir Coffey         -1         1\n",
       "Andre Drummond      -1         1\n",
       "Andre Iguodala      -1         1\n",
       "Andre Roberson      -1         1\n",
       "Andrew Wiggins      -1         1\n",
       "Anfernee Simons      0         1\n",
       "Anthony Davis       -1         1\n",
       "Anthony Edwards      1         1\n",
       "Anthony Gill         11        1\n",
       "Anzejs Pasecniks    -1         1\n",
       "Aron Baynes         -1         1\n",
       "Ashton Hagans        2         1\n",
       "Austin Rivers       -1         1\n",
       "Avery Bradley       -1         1\n",
       "Bam Adebayo         -1         1\n",
       "Ben McLemore         0         1\n",
       "Ben Simmons         -1         1\n",
       "Bismack Biyombo      0         1\n",
       "Name: cluster, dtype: int64"
      ]
     },
     "execution_count": 39,
     "metadata": {},
     "output_type": "execute_result"
    }
   ],
   "source": [
    "X.groupby('PLAYER_NAME')['cluster'].value_counts().head(30)"
   ]
  },
  {
   "cell_type": "code",
   "execution_count": 37,
   "metadata": {
    "scrolled": true
   },
   "outputs": [
    {
     "data": {
      "text/plain": [
       "([0, 1, 2, 3, 4, 5, 6, 7, 8, 9],\n",
       " [Text(0, 0, ''),\n",
       "  Text(0, 0, ''),\n",
       "  Text(0, 0, ''),\n",
       "  Text(0, 0, ''),\n",
       "  Text(0, 0, ''),\n",
       "  Text(0, 0, ''),\n",
       "  Text(0, 0, ''),\n",
       "  Text(0, 0, ''),\n",
       "  Text(0, 0, ''),\n",
       "  Text(0, 0, '')])"
      ]
     },
     "execution_count": 37,
     "metadata": {},
     "output_type": "execute_result"
    },
    {
     "data": {
      "image/png": "[encoded data removed]",
      "text/plain": [
       "<Figure size 432x288 with 1 Axes>"
      ]
     },
     "metadata": {
      "needs_background": "light"
     },
     "output_type": "display_data"
    }
   ],
   "source": [
    "plt.scatter(x = X.index[:10], y = X['cluster'][:10])\n",
    "plt.xticks(rotation=90)"
   ]
  },
  {
   "cell_type": "code",
   "execution_count": null,
   "metadata": {},
   "outputs": [],
   "source": []
  }
 ],
 "metadata": {
  "kernelspec": {
   "display_name": "Python 3",
   "language": "python",
   "name": "python3"
  },
  "language_info": {
   "codemirror_mode": {
    "name": "ipython",
    "version": 3
   },
   "file_extension": ".py",
   "mimetype": "text/x-python",
   "name": "python",
   "nbconvert_exporter": "python",
   "pygments_lexer": "ipython3",
   "version": "3.8.5"
  },
  "toc": {
   "base_numbering": 1,
   "nav_menu": {},
   "number_sections": true,
   "sideBar": true,
   "skip_h1_title": false,
   "title_cell": "Table of Contents",
   "title_sidebar": "Contents",
   "toc_cell": true,
   "toc_position": {},
   "toc_section_display": true,
   "toc_window_display": false
  }
 },
 "nbformat": 4,
 "nbformat_minor": 4
}
