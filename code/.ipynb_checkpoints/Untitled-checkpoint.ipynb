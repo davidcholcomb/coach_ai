{
 "cells": [
  {
   "cell_type": "markdown",
   "metadata": {
    "toc": true
   },
   "source": [
    "<h1>Table of Contents<span class=\"tocSkip\"></span></h1>\n",
    "<div class=\"toc\"><ul class=\"toc-item\"><li><span><a href=\"#Evolution-of-Basketball\" data-toc-modified-id=\"Evolution-of-Basketball-1\"><span class=\"toc-item-num\">1&nbsp;&nbsp;</span>Evolution of Basketball</a></span><ul class=\"toc-item\"><li><ul class=\"toc-item\"><li><span><a href=\"#Imports\" data-toc-modified-id=\"Imports-1.0.1\"><span class=\"toc-item-num\">1.0.1&nbsp;&nbsp;</span>Imports</a></span></li><li><span><a href=\"#Bringing-in-2020-2021-Season-Game-Data-from-NBA-API\" data-toc-modified-id=\"Bringing-in-2020-2021-Season-Game-Data-from-NBA-API-1.0.2\"><span class=\"toc-item-num\">1.0.2&nbsp;&nbsp;</span>Bringing in 2020-2021 Season Game Data from NBA API</a></span></li></ul></li></ul></li></ul></div>"
   ]
  },
  {
   "cell_type": "markdown",
   "metadata": {},
   "source": [
    "# Evolution of Basketball"
   ]
  },
  {
   "cell_type": "markdown",
   "metadata": {},
   "source": [
    "## Problem Statement:\n",
    "\n",
    "The game of basketball in the NBA has changed drastically from when players mostly stuck to their roles to a game where traditional positions are much more fluid. I will cluster / classify players into new roles in order to update the traditional basketball positions based on their new roles."
   ]
  },
  {
   "cell_type": "markdown",
   "metadata": {},
   "source": []
  },
  {
   "cell_type": "code",
   "execution_count": 244,
   "metadata": {
    "scrolled": true
   },
   "outputs": [
    {
     "name": "stdout",
     "output_type": "stream",
     "text": [
      "Collecting nbashots\n",
      "  Downloading nbashots-0.1.0a9.tar.gz (11 kB)\n",
      "Requirement already satisfied: bokeh in c:\\users\\kendr\\anaconda3\\lib\\site-packages (from nbashots) (2.2.3)\n",
      "Requirement already satisfied: matplotlib in c:\\users\\kendr\\anaconda3\\lib\\site-packages (from nbashots) (3.3.2)\n",
      "Requirement already satisfied: numpy in c:\\users\\kendr\\anaconda3\\lib\\site-packages (from nbashots) (1.19.2)\n",
      "Requirement already satisfied: pandas in c:\\users\\kendr\\anaconda3\\lib\\site-packages (from nbashots) (1.1.3)\n",
      "Requirement already satisfied: requests in c:\\users\\kendr\\anaconda3\\lib\\site-packages (from nbashots) (2.24.0)\n",
      "Requirement already satisfied: scipy in c:\\users\\kendr\\anaconda3\\lib\\site-packages (from nbashots) (1.5.2)\n",
      "Collecting seaborn==0.6.0\n",
      "  Downloading seaborn-0.6.0.tar.gz (145 kB)\n",
      "Requirement already satisfied: packaging>=16.8 in c:\\users\\kendr\\anaconda3\\lib\\site-packages (from bokeh->nbashots) (20.4)\n",
      "Requirement already satisfied: PyYAML>=3.10 in c:\\users\\kendr\\anaconda3\\lib\\site-packages (from bokeh->nbashots) (5.3.1)\n",
      "Requirement already satisfied: tornado>=5.1 in c:\\users\\kendr\\anaconda3\\lib\\site-packages (from bokeh->nbashots) (6.0.4)\n",
      "Requirement already satisfied: python-dateutil>=2.1 in c:\\users\\kendr\\anaconda3\\lib\\site-packages (from bokeh->nbashots) (2.8.1)\n",
      "Requirement already satisfied: pillow>=7.1.0 in c:\\users\\kendr\\anaconda3\\lib\\site-packages (from bokeh->nbashots) (8.0.1)\n",
      "Requirement already satisfied: typing-extensions>=3.7.4 in c:\\users\\kendr\\anaconda3\\lib\\site-packages (from bokeh->nbashots) (3.7.4.3)\n",
      "Requirement already satisfied: Jinja2>=2.7 in c:\\users\\kendr\\anaconda3\\lib\\site-packages (from bokeh->nbashots) (2.11.2)\n",
      "Requirement already satisfied: pyparsing!=2.0.4,!=2.1.2,!=2.1.6,>=2.0.3 in c:\\users\\kendr\\anaconda3\\lib\\site-packages (from matplotlib->nbashots) (2.4.7)\n",
      "Requirement already satisfied: certifi>=2020.06.20 in c:\\users\\kendr\\anaconda3\\lib\\site-packages (from matplotlib->nbashots) (2020.6.20)\n",
      "Requirement already satisfied: cycler>=0.10 in c:\\users\\kendr\\anaconda3\\lib\\site-packages (from matplotlib->nbashots) (0.10.0)\n",
      "Requirement already satisfied: kiwisolver>=1.0.1 in c:\\users\\kendr\\anaconda3\\lib\\site-packages (from matplotlib->nbashots) (1.3.0)\n",
      "Requirement already satisfied: pytz>=2017.2 in c:\\users\\kendr\\anaconda3\\lib\\site-packages (from pandas->nbashots) (2020.1)\n",
      "Requirement already satisfied: chardet<4,>=3.0.2 in c:\\users\\kendr\\anaconda3\\lib\\site-packages (from requests->nbashots) (3.0.4)\n",
      "Requirement already satisfied: idna<3,>=2.5 in c:\\users\\kendr\\anaconda3\\lib\\site-packages (from requests->nbashots) (2.10)\n",
      "Requirement already satisfied: urllib3!=1.25.0,!=1.25.1,<1.26,>=1.21.1 in c:\\users\\kendr\\anaconda3\\lib\\site-packages (from requests->nbashots) (1.25.11)\n",
      "Requirement already satisfied: six in c:\\users\\kendr\\anaconda3\\lib\\site-packages (from packaging>=16.8->bokeh->nbashots) (1.15.0)\n",
      "Requirement already satisfied: MarkupSafe>=0.23 in c:\\users\\kendr\\anaconda3\\lib\\site-packages (from Jinja2>=2.7->bokeh->nbashots) (1.1.1)\n",
      "Building wheels for collected packages: nbashots, seaborn\n",
      "  Building wheel for nbashots (setup.py): started\n",
      "  Building wheel for nbashots (setup.py): finished with status 'done'\n",
      "  Created wheel for nbashots: filename=nbashots-0.1.0a9-py3-none-any.whl size=10908 sha256=62f5c8d3a72d78a583320c11eda96f3fc6ed40449552486724ace95451c1ad9e\n",
      "  Stored in directory: c:\\users\\kendr\\appdata\\local\\pip\\cache\\wheels\\10\\42\\06\\5db764be5802a3863f502b92b77fb3f4f1f7ecfaeebbf58f8e\n",
      "  Building wheel for seaborn (setup.py): started\n",
      "  Building wheel for seaborn (setup.py): finished with status 'done'\n",
      "  Created wheel for seaborn: filename=seaborn-0.6.0-py3-none-any.whl size=151750 sha256=ddf6d9a120e558189107b0bfbe37cfd88596432890da8f5030fe1195138b411f\n",
      "  Stored in directory: c:\\users\\kendr\\appdata\\local\\pip\\cache\\wheels\\de\\7a\\8d\\e20b3dd53fa827f9f1ff1c3f1c69b957c24d7d1f69b587244a\n",
      "Successfully built nbashots seaborn\n",
      "Installing collected packages: seaborn, nbashots\n",
      "  Attempting uninstall: seaborn\n",
      "    Found existing installation: seaborn 0.11.0\n",
      "    Uninstalling seaborn-0.11.0:\n",
      "      Successfully uninstalled seaborn-0.11.0\n",
      "Successfully installed nbashots-0.1.0a9 seaborn-0.6.0\n"
     ]
    }
   ],
   "source": [
    "#pip install nba-api\n",
    "#!pip install nbashots"
   ]
  },
  {
   "cell_type": "markdown",
   "metadata": {},
   "source": [
    "### Imports"
   ]
  },
  {
   "cell_type": "code",
   "execution_count": 100,
   "metadata": {},
   "outputs": [],
   "source": [
    "import pandas as pd\n",
    "import numpy as np\n",
    "from matplotlib import pyplot as plt\n",
    "from sklearn.preprocessing import StandardScaler\n",
    "from sklearn.metrics import silhouette_score\n",
    "from sklearn.cluster import DBSCAN\n",
    "import seaborn as sns\n"
   ]
  },
  {
   "cell_type": "markdown",
   "metadata": {},
   "source": [
    "## Background Info\n",
    "\n",
    "I picked a player that has played in both a more traditional role several years ago and has expanded / evolved his style of play with the current way basketball is played at the NBA level.\n",
    "\n"
   ]
  },
  {
   "cell_type": "code",
   "execution_count": 239,
   "metadata": {},
   "outputs": [],
   "source": [
    "#https://github.com/danchyy/Basketball_Analytics/blob/master/Scripts/2018_19_season/brook_lopez_evolution/brook_lopez.ipynb\n",
    "#https://towardsdatascience.com/make-a-simple-nba-shot-chart-with-python-e5d70db45d0d\n",
    "from nba_api.stats.endpoints.shotchartdetail import ShotChartDetail\n",
    "from nba_api.stats.static.players import find_players_by_full_name\n",
    "\n",
    "lopez_id = find_players_by_full_name(\"Brook Lopez\")[0]['id']\n"
   ]
  },
  {
   "cell_type": "code",
   "execution_count": 240,
   "metadata": {},
   "outputs": [
    {
     "data": {
      "text/plain": [
       "201572"
      ]
     },
     "execution_count": 240,
     "metadata": {},
     "output_type": "execute_result"
    }
   ],
   "source": [
    "lopez_id"
   ]
  },
  {
   "cell_type": "code",
   "execution_count": 241,
   "metadata": {},
   "outputs": [],
   "source": [
    "from matplotlib.patches import Circle, Rectangle, Arc\n",
    "\n",
    "# Amazing function by Bradley Fay for plotting the nba court\n",
    "# source: https://github.com/bradleyfay/py-Goldsberry/blob/master/docs/Visualizing%20NBA%20Shots%20with%20py-Goldsberry.ipynb\n",
    "def draw_court(ax=None, color='black', lw=2, outer_lines=False):\n",
    "    # If an axes object isn't provided to plot onto, just get current one\n",
    "    if ax is None:\n",
    "        ax = plt.gca()\n",
    "\n",
    "    # Create the various parts of an NBA basketball court\n",
    "\n",
    "    # Create the basketball hoop\n",
    "    # Diameter of a hoop is 18\" so it has a radius of 9\", which is a value\n",
    "    # 7.5 in our coordinate system\n",
    "    hoop = Circle((0, 0), radius=7.5, linewidth=lw, color=color, fill=False)\n",
    "\n",
    "    # Create backboard\n",
    "    backboard = Rectangle((-30, -7.5), 60, -1, linewidth=lw, color=color)\n",
    "\n",
    "    # The paint\n",
    "    # Create the outer box 0f the paint, width=16ft, height=19ft\n",
    "    outer_box = Rectangle((-80, -47.5), 160, 190, linewidth=lw, color=color,\n",
    "                          fill=False, zorder=0)\n",
    "    # Create the inner box of the paint, widt=12ft, height=19ft\n",
    "    inner_box = Rectangle((-60, -47.5), 120, 190, linewidth=lw, color=color,\n",
    "                          fill=False, zorder=0)\n",
    "\n",
    "    # Create free throw top arc\n",
    "    top_free_throw = Arc((0, 142.5), 120, 120, theta1=0, theta2=180,\n",
    "                         linewidth=lw, color=color, fill=False, zorder=0)\n",
    "    # Create free throw bottom arc\n",
    "    bottom_free_throw = Arc((0, 142.5), 120, 120, theta1=180, theta2=0,\n",
    "                            linewidth=lw, color=color, linestyle='dashed', zorder=0)\n",
    "    # Restricted Zone, it is an arc with 4ft radius from center of the hoop\n",
    "    restricted = Arc((0, 0), 80, 80, theta1=0, theta2=180, linewidth=lw,\n",
    "                     color=color, zorder=0)\n",
    "\n",
    "    # Three point line\n",
    "    # Create the side 3pt lines, they are 14ft long before they begin to arc\n",
    "    corner_three_a = Rectangle((-220, -47.5), 0, 138, linewidth=lw,\n",
    "                               color=color, zorder=0)\n",
    "    corner_three_b = Rectangle((220, -47.5), 0, 138, linewidth=lw, color=color, zorder=0)\n",
    "    # 3pt arc - center of arc will be the hoop, arc is 23'9\" away from hoop\n",
    "    # I just played around with the theta values until they lined up with the \n",
    "    # threes\n",
    "    three_arc = Arc((0, 0), 475, 475, theta1=22, theta2=158, linewidth=lw,\n",
    "                    color=color, zorder=0)\n",
    "\n",
    "    # Center Court\n",
    "    center_outer_arc = Arc((0, 422.5), 120, 120, theta1=180, theta2=0,\n",
    "                           linewidth=lw, color=color, zorder=0)\n",
    "    center_inner_arc = Arc((0, 422.5), 40, 40, theta1=180, theta2=0,\n",
    "                           linewidth=lw, color=color, zorder=0)\n",
    "\n",
    "    # List of the court elements to be plotted onto the axes\n",
    "    court_elements = [hoop, backboard, outer_box, inner_box, top_free_throw,\n",
    "                      bottom_free_throw, restricted, corner_three_a,\n",
    "                      corner_three_b, three_arc, center_outer_arc,\n",
    "                      center_inner_arc]\n",
    "\n",
    "    if outer_lines:\n",
    "        # Draw the half court line, baseline and side out bound lines\n",
    "        outer_lines = Rectangle((-250, -48), 500, 470, linewidth=lw,\n",
    "                                color=color, fill=False)\n",
    "        court_elements.append(outer_lines)\n",
    "\n",
    "    # Add the court elements onto the axes\n",
    "    for element in court_elements:\n",
    "        ax.add_patch(element)\n",
    "\n",
    "    return ax"
   ]
  },
  {
   "cell_type": "code",
   "execution_count": null,
   "metadata": {},
   "outputs": [],
   "source": []
  },
  {
   "cell_type": "markdown",
   "metadata": {},
   "source": [
    "### Bringing in 2020-2021 Season Game Data from NBA API\n",
    "\n",
    "https://github.com/swar/nba_api"
   ]
  },
  {
   "cell_type": "code",
   "execution_count": 3,
   "metadata": {
    "scrolled": true
   },
   "outputs": [],
   "source": [
    "df_p = pd.read_csv('../data/play_by_play.csv')"
   ]
  },
  {
   "cell_type": "code",
   "execution_count": 19,
   "metadata": {},
   "outputs": [
    {
     "data": {
      "text/plain": [
       "Index(['GAME_ID', 'EVENTNUM', 'EVENTMSGTYPE', 'EVENTMSGACTIONTYPE', 'PERIOD',\n",
       "       'WCTIMESTRING', 'PCTIMESTRING', 'HOMEDESCRIPTION', 'NEUTRALDESCRIPTION',\n",
       "       'VISITORDESCRIPTION', 'SCORE', 'SCOREMARGIN', 'PERSON1TYPE',\n",
       "       'PLAYER1_ID', 'PLAYER1_NAME', 'PLAYER1_TEAM_ID', 'PLAYER1_TEAM_CITY',\n",
       "       'PLAYER1_TEAM_NICKNAME', 'PLAYER1_TEAM_ABBREVIATION', 'PERSON2TYPE',\n",
       "       'PLAYER2_ID', 'PLAYER2_NAME', 'PLAYER2_TEAM_ID', 'PLAYER2_TEAM_CITY',\n",
       "       'PLAYER2_TEAM_NICKNAME', 'PLAYER2_TEAM_ABBREVIATION', 'PERSON3TYPE',\n",
       "       'PLAYER3_ID', 'PLAYER3_NAME', 'PLAYER3_TEAM_ID', 'PLAYER3_TEAM_CITY',\n",
       "       'PLAYER3_TEAM_NICKNAME', 'PLAYER3_TEAM_ABBREVIATION',\n",
       "       'VIDEO_AVAILABLE_FLAG'],\n",
       "      dtype='object')"
      ]
     },
     "execution_count": 19,
     "metadata": {},
     "output_type": "execute_result"
    }
   ],
   "source": [
    "df_p.columns"
   ]
  },
  {
   "cell_type": "code",
   "execution_count": 22,
   "metadata": {
    "scrolled": false
   },
   "outputs": [
    {
     "data": {
      "text/html": [
       "<div>\n",
       "<style scoped>\n",
       "    .dataframe tbody tr th:only-of-type {\n",
       "        vertical-align: middle;\n",
       "    }\n",
       "\n",
       "    .dataframe tbody tr th {\n",
       "        vertical-align: top;\n",
       "    }\n",
       "\n",
       "    .dataframe thead th {\n",
       "        text-align: right;\n",
       "    }\n",
       "</style>\n",
       "<table border=\"1\" class=\"dataframe\">\n",
       "  <thead>\n",
       "    <tr style=\"text-align: right;\">\n",
       "      <th></th>\n",
       "      <th>GAME_ID</th>\n",
       "      <th>EVENTNUM</th>\n",
       "      <th>EVENTMSGTYPE</th>\n",
       "      <th>EVENTMSGACTIONTYPE</th>\n",
       "      <th>PERIOD</th>\n",
       "      <th>WCTIMESTRING</th>\n",
       "      <th>PCTIMESTRING</th>\n",
       "      <th>HOMEDESCRIPTION</th>\n",
       "      <th>NEUTRALDESCRIPTION</th>\n",
       "      <th>VISITORDESCRIPTION</th>\n",
       "      <th>...</th>\n",
       "      <th>PLAYER2_TEAM_NICKNAME</th>\n",
       "      <th>PLAYER2_TEAM_ABBREVIATION</th>\n",
       "      <th>PERSON3TYPE</th>\n",
       "      <th>PLAYER3_ID</th>\n",
       "      <th>PLAYER3_NAME</th>\n",
       "      <th>PLAYER3_TEAM_ID</th>\n",
       "      <th>PLAYER3_TEAM_CITY</th>\n",
       "      <th>PLAYER3_TEAM_NICKNAME</th>\n",
       "      <th>PLAYER3_TEAM_ABBREVIATION</th>\n",
       "      <th>VIDEO_AVAILABLE_FLAG</th>\n",
       "    </tr>\n",
       "  </thead>\n",
       "  <tbody>\n",
       "    <tr>\n",
       "      <th>0</th>\n",
       "      <td>22000482</td>\n",
       "      <td>2</td>\n",
       "      <td>12</td>\n",
       "      <td>0</td>\n",
       "      <td>1</td>\n",
       "      <td>7:42 PM</td>\n",
       "      <td>12:00</td>\n",
       "      <td>NaN</td>\n",
       "      <td>NaN</td>\n",
       "      <td>NaN</td>\n",
       "      <td>...</td>\n",
       "      <td>NaN</td>\n",
       "      <td>NaN</td>\n",
       "      <td>0</td>\n",
       "      <td>0</td>\n",
       "      <td>NaN</td>\n",
       "      <td>NaN</td>\n",
       "      <td>NaN</td>\n",
       "      <td>NaN</td>\n",
       "      <td>NaN</td>\n",
       "      <td>0</td>\n",
       "    </tr>\n",
       "    <tr>\n",
       "      <th>1</th>\n",
       "      <td>22000482</td>\n",
       "      <td>4</td>\n",
       "      <td>10</td>\n",
       "      <td>0</td>\n",
       "      <td>1</td>\n",
       "      <td>7:42 PM</td>\n",
       "      <td>12:00</td>\n",
       "      <td>Jump Ball Jordan vs. Bagley III: Tip to Brown</td>\n",
       "      <td>NaN</td>\n",
       "      <td>NaN</td>\n",
       "      <td>...</td>\n",
       "      <td>Kings</td>\n",
       "      <td>SAC</td>\n",
       "      <td>4</td>\n",
       "      <td>1628971</td>\n",
       "      <td>Bruce Brown</td>\n",
       "      <td>1.610613e+09</td>\n",
       "      <td>Brooklyn</td>\n",
       "      <td>Nets</td>\n",
       "      <td>BKN</td>\n",
       "      <td>1</td>\n",
       "    </tr>\n",
       "    <tr>\n",
       "      <th>2</th>\n",
       "      <td>22000482</td>\n",
       "      <td>7</td>\n",
       "      <td>1</td>\n",
       "      <td>79</td>\n",
       "      <td>1</td>\n",
       "      <td>7:42 PM</td>\n",
       "      <td>11:39</td>\n",
       "      <td>Irving 14' Pullup Jump Shot (2 PTS)</td>\n",
       "      <td>NaN</td>\n",
       "      <td>NaN</td>\n",
       "      <td>...</td>\n",
       "      <td>NaN</td>\n",
       "      <td>NaN</td>\n",
       "      <td>0</td>\n",
       "      <td>0</td>\n",
       "      <td>NaN</td>\n",
       "      <td>NaN</td>\n",
       "      <td>NaN</td>\n",
       "      <td>NaN</td>\n",
       "      <td>NaN</td>\n",
       "      <td>1</td>\n",
       "    </tr>\n",
       "    <tr>\n",
       "      <th>3</th>\n",
       "      <td>22000482</td>\n",
       "      <td>8</td>\n",
       "      <td>2</td>\n",
       "      <td>79</td>\n",
       "      <td>1</td>\n",
       "      <td>7:42 PM</td>\n",
       "      <td>11:25</td>\n",
       "      <td>NaN</td>\n",
       "      <td>NaN</td>\n",
       "      <td>MISS Fox 11' Pullup Jump Shot</td>\n",
       "      <td>...</td>\n",
       "      <td>NaN</td>\n",
       "      <td>NaN</td>\n",
       "      <td>0</td>\n",
       "      <td>0</td>\n",
       "      <td>NaN</td>\n",
       "      <td>NaN</td>\n",
       "      <td>NaN</td>\n",
       "      <td>NaN</td>\n",
       "      <td>NaN</td>\n",
       "      <td>1</td>\n",
       "    </tr>\n",
       "    <tr>\n",
       "      <th>4</th>\n",
       "      <td>22000482</td>\n",
       "      <td>9</td>\n",
       "      <td>4</td>\n",
       "      <td>0</td>\n",
       "      <td>1</td>\n",
       "      <td>7:42 PM</td>\n",
       "      <td>11:22</td>\n",
       "      <td>Jordan REBOUND (Off:0 Def:1)</td>\n",
       "      <td>NaN</td>\n",
       "      <td>NaN</td>\n",
       "      <td>...</td>\n",
       "      <td>NaN</td>\n",
       "      <td>NaN</td>\n",
       "      <td>0</td>\n",
       "      <td>0</td>\n",
       "      <td>NaN</td>\n",
       "      <td>NaN</td>\n",
       "      <td>NaN</td>\n",
       "      <td>NaN</td>\n",
       "      <td>NaN</td>\n",
       "      <td>1</td>\n",
       "    </tr>\n",
       "    <tr>\n",
       "      <th>5</th>\n",
       "      <td>22000482</td>\n",
       "      <td>10</td>\n",
       "      <td>1</td>\n",
       "      <td>1</td>\n",
       "      <td>1</td>\n",
       "      <td>7:42 PM</td>\n",
       "      <td>11:16</td>\n",
       "      <td>Irving 27' 3PT Jump Shot (5 PTS) (Harden 1 AST)</td>\n",
       "      <td>NaN</td>\n",
       "      <td>NaN</td>\n",
       "      <td>...</td>\n",
       "      <td>Nets</td>\n",
       "      <td>BKN</td>\n",
       "      <td>0</td>\n",
       "      <td>0</td>\n",
       "      <td>NaN</td>\n",
       "      <td>NaN</td>\n",
       "      <td>NaN</td>\n",
       "      <td>NaN</td>\n",
       "      <td>NaN</td>\n",
       "      <td>1</td>\n",
       "    </tr>\n",
       "    <tr>\n",
       "      <th>6</th>\n",
       "      <td>22000482</td>\n",
       "      <td>12</td>\n",
       "      <td>2</td>\n",
       "      <td>1</td>\n",
       "      <td>1</td>\n",
       "      <td>7:43 PM</td>\n",
       "      <td>10:57</td>\n",
       "      <td>NaN</td>\n",
       "      <td>NaN</td>\n",
       "      <td>MISS Bagley III  3PT Jump Shot</td>\n",
       "      <td>...</td>\n",
       "      <td>NaN</td>\n",
       "      <td>NaN</td>\n",
       "      <td>0</td>\n",
       "      <td>0</td>\n",
       "      <td>NaN</td>\n",
       "      <td>NaN</td>\n",
       "      <td>NaN</td>\n",
       "      <td>NaN</td>\n",
       "      <td>NaN</td>\n",
       "      <td>1</td>\n",
       "    </tr>\n",
       "    <tr>\n",
       "      <th>7</th>\n",
       "      <td>22000482</td>\n",
       "      <td>13</td>\n",
       "      <td>4</td>\n",
       "      <td>0</td>\n",
       "      <td>1</td>\n",
       "      <td>7:43 PM</td>\n",
       "      <td>10:55</td>\n",
       "      <td>Harden REBOUND (Off:0 Def:1)</td>\n",
       "      <td>NaN</td>\n",
       "      <td>NaN</td>\n",
       "      <td>...</td>\n",
       "      <td>NaN</td>\n",
       "      <td>NaN</td>\n",
       "      <td>0</td>\n",
       "      <td>0</td>\n",
       "      <td>NaN</td>\n",
       "      <td>NaN</td>\n",
       "      <td>NaN</td>\n",
       "      <td>NaN</td>\n",
       "      <td>NaN</td>\n",
       "      <td>1</td>\n",
       "    </tr>\n",
       "    <tr>\n",
       "      <th>8</th>\n",
       "      <td>22000482</td>\n",
       "      <td>14</td>\n",
       "      <td>2</td>\n",
       "      <td>1</td>\n",
       "      <td>1</td>\n",
       "      <td>7:43 PM</td>\n",
       "      <td>10:36</td>\n",
       "      <td>MISS Harden 26' 3PT Jump Shot</td>\n",
       "      <td>NaN</td>\n",
       "      <td>NaN</td>\n",
       "      <td>...</td>\n",
       "      <td>NaN</td>\n",
       "      <td>NaN</td>\n",
       "      <td>0</td>\n",
       "      <td>0</td>\n",
       "      <td>NaN</td>\n",
       "      <td>NaN</td>\n",
       "      <td>NaN</td>\n",
       "      <td>NaN</td>\n",
       "      <td>NaN</td>\n",
       "      <td>1</td>\n",
       "    </tr>\n",
       "    <tr>\n",
       "      <th>9</th>\n",
       "      <td>22000482</td>\n",
       "      <td>15</td>\n",
       "      <td>4</td>\n",
       "      <td>0</td>\n",
       "      <td>1</td>\n",
       "      <td>7:43 PM</td>\n",
       "      <td>10:29</td>\n",
       "      <td>NaN</td>\n",
       "      <td>NaN</td>\n",
       "      <td>Holmes REBOUND (Off:0 Def:1)</td>\n",
       "      <td>...</td>\n",
       "      <td>NaN</td>\n",
       "      <td>NaN</td>\n",
       "      <td>0</td>\n",
       "      <td>0</td>\n",
       "      <td>NaN</td>\n",
       "      <td>NaN</td>\n",
       "      <td>NaN</td>\n",
       "      <td>NaN</td>\n",
       "      <td>NaN</td>\n",
       "      <td>1</td>\n",
       "    </tr>\n",
       "    <tr>\n",
       "      <th>10</th>\n",
       "      <td>22000482</td>\n",
       "      <td>16</td>\n",
       "      <td>1</td>\n",
       "      <td>108</td>\n",
       "      <td>1</td>\n",
       "      <td>7:43 PM</td>\n",
       "      <td>10:24</td>\n",
       "      <td>NaN</td>\n",
       "      <td>NaN</td>\n",
       "      <td>Holmes  Cutting Dunk Shot (2 PTS) (Hield 1 AST)</td>\n",
       "      <td>...</td>\n",
       "      <td>Kings</td>\n",
       "      <td>SAC</td>\n",
       "      <td>0</td>\n",
       "      <td>0</td>\n",
       "      <td>NaN</td>\n",
       "      <td>NaN</td>\n",
       "      <td>NaN</td>\n",
       "      <td>NaN</td>\n",
       "      <td>NaN</td>\n",
       "      <td>1</td>\n",
       "    </tr>\n",
       "    <tr>\n",
       "      <th>11</th>\n",
       "      <td>22000482</td>\n",
       "      <td>19</td>\n",
       "      <td>1</td>\n",
       "      <td>98</td>\n",
       "      <td>1</td>\n",
       "      <td>7:44 PM</td>\n",
       "      <td>10:07</td>\n",
       "      <td>Brown 2' Cutting Layup Shot (2 PTS) (Irving 1 ...</td>\n",
       "      <td>NaN</td>\n",
       "      <td>NaN</td>\n",
       "      <td>...</td>\n",
       "      <td>Nets</td>\n",
       "      <td>BKN</td>\n",
       "      <td>0</td>\n",
       "      <td>0</td>\n",
       "      <td>NaN</td>\n",
       "      <td>NaN</td>\n",
       "      <td>NaN</td>\n",
       "      <td>NaN</td>\n",
       "      <td>NaN</td>\n",
       "      <td>1</td>\n",
       "    </tr>\n",
       "    <tr>\n",
       "      <th>12</th>\n",
       "      <td>22000482</td>\n",
       "      <td>21</td>\n",
       "      <td>5</td>\n",
       "      <td>1</td>\n",
       "      <td>1</td>\n",
       "      <td>7:44 PM</td>\n",
       "      <td>9:49</td>\n",
       "      <td>Brown STEAL (1 STL)</td>\n",
       "      <td>NaN</td>\n",
       "      <td>Barnes Bad Pass Turnover (P1.T1)</td>\n",
       "      <td>...</td>\n",
       "      <td>Nets</td>\n",
       "      <td>BKN</td>\n",
       "      <td>0</td>\n",
       "      <td>0</td>\n",
       "      <td>NaN</td>\n",
       "      <td>NaN</td>\n",
       "      <td>NaN</td>\n",
       "      <td>NaN</td>\n",
       "      <td>NaN</td>\n",
       "      <td>1</td>\n",
       "    </tr>\n",
       "    <tr>\n",
       "      <th>13</th>\n",
       "      <td>22000482</td>\n",
       "      <td>23</td>\n",
       "      <td>2</td>\n",
       "      <td>103</td>\n",
       "      <td>1</td>\n",
       "      <td>7:44 PM</td>\n",
       "      <td>9:43</td>\n",
       "      <td>MISS Irving 26' 3PT Running Pull-Up Jump Shot</td>\n",
       "      <td>NaN</td>\n",
       "      <td>NaN</td>\n",
       "      <td>...</td>\n",
       "      <td>NaN</td>\n",
       "      <td>NaN</td>\n",
       "      <td>0</td>\n",
       "      <td>0</td>\n",
       "      <td>NaN</td>\n",
       "      <td>NaN</td>\n",
       "      <td>NaN</td>\n",
       "      <td>NaN</td>\n",
       "      <td>NaN</td>\n",
       "      <td>1</td>\n",
       "    </tr>\n",
       "    <tr>\n",
       "      <th>14</th>\n",
       "      <td>22000482</td>\n",
       "      <td>24</td>\n",
       "      <td>4</td>\n",
       "      <td>0</td>\n",
       "      <td>1</td>\n",
       "      <td>7:44 PM</td>\n",
       "      <td>9:40</td>\n",
       "      <td>NaN</td>\n",
       "      <td>NaN</td>\n",
       "      <td>Holmes REBOUND (Off:0 Def:2)</td>\n",
       "      <td>...</td>\n",
       "      <td>NaN</td>\n",
       "      <td>NaN</td>\n",
       "      <td>0</td>\n",
       "      <td>0</td>\n",
       "      <td>NaN</td>\n",
       "      <td>NaN</td>\n",
       "      <td>NaN</td>\n",
       "      <td>NaN</td>\n",
       "      <td>NaN</td>\n",
       "      <td>1</td>\n",
       "    </tr>\n",
       "  </tbody>\n",
       "</table>\n",
       "<p>15 rows × 34 columns</p>\n",
       "</div>"
      ],
      "text/plain": [
       "     GAME_ID  EVENTNUM  EVENTMSGTYPE  EVENTMSGACTIONTYPE  PERIOD WCTIMESTRING  \\\n",
       "0   22000482         2            12                   0       1      7:42 PM   \n",
       "1   22000482         4            10                   0       1      7:42 PM   \n",
       "2   22000482         7             1                  79       1      7:42 PM   \n",
       "3   22000482         8             2                  79       1      7:42 PM   \n",
       "4   22000482         9             4                   0       1      7:42 PM   \n",
       "5   22000482        10             1                   1       1      7:42 PM   \n",
       "6   22000482        12             2                   1       1      7:43 PM   \n",
       "7   22000482        13             4                   0       1      7:43 PM   \n",
       "8   22000482        14             2                   1       1      7:43 PM   \n",
       "9   22000482        15             4                   0       1      7:43 PM   \n",
       "10  22000482        16             1                 108       1      7:43 PM   \n",
       "11  22000482        19             1                  98       1      7:44 PM   \n",
       "12  22000482        21             5                   1       1      7:44 PM   \n",
       "13  22000482        23             2                 103       1      7:44 PM   \n",
       "14  22000482        24             4                   0       1      7:44 PM   \n",
       "\n",
       "   PCTIMESTRING                                    HOMEDESCRIPTION  \\\n",
       "0         12:00                                                NaN   \n",
       "1         12:00      Jump Ball Jordan vs. Bagley III: Tip to Brown   \n",
       "2         11:39                Irving 14' Pullup Jump Shot (2 PTS)   \n",
       "3         11:25                                                NaN   \n",
       "4         11:22                       Jordan REBOUND (Off:0 Def:1)   \n",
       "5         11:16    Irving 27' 3PT Jump Shot (5 PTS) (Harden 1 AST)   \n",
       "6         10:57                                                NaN   \n",
       "7         10:55                       Harden REBOUND (Off:0 Def:1)   \n",
       "8         10:36                      MISS Harden 26' 3PT Jump Shot   \n",
       "9         10:29                                                NaN   \n",
       "10        10:24                                                NaN   \n",
       "11        10:07  Brown 2' Cutting Layup Shot (2 PTS) (Irving 1 ...   \n",
       "12         9:49                                Brown STEAL (1 STL)   \n",
       "13         9:43      MISS Irving 26' 3PT Running Pull-Up Jump Shot   \n",
       "14         9:40                                                NaN   \n",
       "\n",
       "    NEUTRALDESCRIPTION                               VISITORDESCRIPTION  ...  \\\n",
       "0                  NaN                                              NaN  ...   \n",
       "1                  NaN                                              NaN  ...   \n",
       "2                  NaN                                              NaN  ...   \n",
       "3                  NaN                    MISS Fox 11' Pullup Jump Shot  ...   \n",
       "4                  NaN                                              NaN  ...   \n",
       "5                  NaN                                              NaN  ...   \n",
       "6                  NaN                   MISS Bagley III  3PT Jump Shot  ...   \n",
       "7                  NaN                                              NaN  ...   \n",
       "8                  NaN                                              NaN  ...   \n",
       "9                  NaN                     Holmes REBOUND (Off:0 Def:1)  ...   \n",
       "10                 NaN  Holmes  Cutting Dunk Shot (2 PTS) (Hield 1 AST)  ...   \n",
       "11                 NaN                                              NaN  ...   \n",
       "12                 NaN                 Barnes Bad Pass Turnover (P1.T1)  ...   \n",
       "13                 NaN                                              NaN  ...   \n",
       "14                 NaN                     Holmes REBOUND (Off:0 Def:2)  ...   \n",
       "\n",
       "   PLAYER2_TEAM_NICKNAME PLAYER2_TEAM_ABBREVIATION  PERSON3TYPE  PLAYER3_ID  \\\n",
       "0                    NaN                       NaN            0           0   \n",
       "1                  Kings                       SAC            4     1628971   \n",
       "2                    NaN                       NaN            0           0   \n",
       "3                    NaN                       NaN            0           0   \n",
       "4                    NaN                       NaN            0           0   \n",
       "5                   Nets                       BKN            0           0   \n",
       "6                    NaN                       NaN            0           0   \n",
       "7                    NaN                       NaN            0           0   \n",
       "8                    NaN                       NaN            0           0   \n",
       "9                    NaN                       NaN            0           0   \n",
       "10                 Kings                       SAC            0           0   \n",
       "11                  Nets                       BKN            0           0   \n",
       "12                  Nets                       BKN            0           0   \n",
       "13                   NaN                       NaN            0           0   \n",
       "14                   NaN                       NaN            0           0   \n",
       "\n",
       "   PLAYER3_NAME  PLAYER3_TEAM_ID PLAYER3_TEAM_CITY PLAYER3_TEAM_NICKNAME  \\\n",
       "0           NaN              NaN               NaN                   NaN   \n",
       "1   Bruce Brown     1.610613e+09          Brooklyn                  Nets   \n",
       "2           NaN              NaN               NaN                   NaN   \n",
       "3           NaN              NaN               NaN                   NaN   \n",
       "4           NaN              NaN               NaN                   NaN   \n",
       "5           NaN              NaN               NaN                   NaN   \n",
       "6           NaN              NaN               NaN                   NaN   \n",
       "7           NaN              NaN               NaN                   NaN   \n",
       "8           NaN              NaN               NaN                   NaN   \n",
       "9           NaN              NaN               NaN                   NaN   \n",
       "10          NaN              NaN               NaN                   NaN   \n",
       "11          NaN              NaN               NaN                   NaN   \n",
       "12          NaN              NaN               NaN                   NaN   \n",
       "13          NaN              NaN               NaN                   NaN   \n",
       "14          NaN              NaN               NaN                   NaN   \n",
       "\n",
       "   PLAYER3_TEAM_ABBREVIATION  VIDEO_AVAILABLE_FLAG  \n",
       "0                        NaN                     0  \n",
       "1                        BKN                     1  \n",
       "2                        NaN                     1  \n",
       "3                        NaN                     1  \n",
       "4                        NaN                     1  \n",
       "5                        NaN                     1  \n",
       "6                        NaN                     1  \n",
       "7                        NaN                     1  \n",
       "8                        NaN                     1  \n",
       "9                        NaN                     1  \n",
       "10                       NaN                     1  \n",
       "11                       NaN                     1  \n",
       "12                       NaN                     1  \n",
       "13                       NaN                     1  \n",
       "14                       NaN                     1  \n",
       "\n",
       "[15 rows x 34 columns]"
      ]
     },
     "execution_count": 22,
     "metadata": {},
     "output_type": "execute_result"
    }
   ],
   "source": [
    "df_p.head(15)"
   ]
  },
  {
   "cell_type": "code",
   "execution_count": 32,
   "metadata": {
    "scrolled": true
   },
   "outputs": [],
   "source": [
    "kings_nets = (df_p[['PCTIMESTRING', 'PERIOD', 'SCORE', 'SCOREMARGIN', 'PLAYER1_TEAM_ABBREVIATION']][(df_p['GAME_ID'] == 22000482)].dropna())"
   ]
  },
  {
   "cell_type": "code",
   "execution_count": 95,
   "metadata": {
    "scrolled": true
   },
   "outputs": [
    {
     "data": {
      "text/html": [
       "<div>\n",
       "<style scoped>\n",
       "    .dataframe tbody tr th:only-of-type {\n",
       "        vertical-align: middle;\n",
       "    }\n",
       "\n",
       "    .dataframe tbody tr th {\n",
       "        vertical-align: top;\n",
       "    }\n",
       "\n",
       "    .dataframe thead th {\n",
       "        text-align: right;\n",
       "    }\n",
       "</style>\n",
       "<table border=\"1\" class=\"dataframe\">\n",
       "  <thead>\n",
       "    <tr style=\"text-align: right;\">\n",
       "      <th></th>\n",
       "      <th>PCTIMESTRING</th>\n",
       "      <th>PERIOD</th>\n",
       "      <th>SCORE</th>\n",
       "      <th>SCOREMARGIN</th>\n",
       "      <th>PLAYER1_TEAM_ABBREVIATION</th>\n",
       "    </tr>\n",
       "  </thead>\n",
       "  <tbody>\n",
       "    <tr>\n",
       "      <th>6751</th>\n",
       "      <td>1:22</td>\n",
       "      <td>4</td>\n",
       "      <td>113 - 125</td>\n",
       "      <td>12</td>\n",
       "      <td>BKN</td>\n",
       "    </tr>\n",
       "    <tr>\n",
       "      <th>6755</th>\n",
       "      <td>1:01</td>\n",
       "      <td>4</td>\n",
       "      <td>113 - 126</td>\n",
       "      <td>13</td>\n",
       "      <td>BKN</td>\n",
       "    </tr>\n",
       "    <tr>\n",
       "      <th>6756</th>\n",
       "      <td>1:01</td>\n",
       "      <td>4</td>\n",
       "      <td>113 - 127</td>\n",
       "      <td>14</td>\n",
       "      <td>BKN</td>\n",
       "    </tr>\n",
       "    <tr>\n",
       "      <th>6757</th>\n",
       "      <td>0:49</td>\n",
       "      <td>4</td>\n",
       "      <td>115 - 127</td>\n",
       "      <td>12</td>\n",
       "      <td>SAC</td>\n",
       "    </tr>\n",
       "    <tr>\n",
       "      <th>6760</th>\n",
       "      <td>0:16</td>\n",
       "      <td>4</td>\n",
       "      <td>118 - 127</td>\n",
       "      <td>9</td>\n",
       "      <td>SAC</td>\n",
       "    </tr>\n",
       "  </tbody>\n",
       "</table>\n",
       "</div>"
      ],
      "text/plain": [
       "     PCTIMESTRING  PERIOD      SCORE SCOREMARGIN PLAYER1_TEAM_ABBREVIATION\n",
       "6751         1:22       4  113 - 125          12                       BKN\n",
       "6755         1:01       4  113 - 126          13                       BKN\n",
       "6756         1:01       4  113 - 127          14                       BKN\n",
       "6757         0:49       4  115 - 127          12                       SAC\n",
       "6760         0:16       4  118 - 127           9                       SAC"
      ]
     },
     "execution_count": 95,
     "metadata": {},
     "output_type": "execute_result"
    }
   ],
   "source": [
    "kings_nets.tail()"
   ]
  },
  {
   "cell_type": "code",
   "execution_count": 93,
   "metadata": {
    "scrolled": true
   },
   "outputs": [
    {
     "data": {
      "text/plain": [
       "2       11:39\n",
       "5       11:16\n",
       "10      10:24\n",
       "11      10:07\n",
       "15       9:31\n",
       "        ...  \n",
       "6751     1:22\n",
       "6755     1:01\n",
       "6756     1:01\n",
       "6757     0:49\n",
       "6760     0:16\n",
       "Name: PCTIMESTRING, Length: 248, dtype: object"
      ]
     },
     "execution_count": 93,
     "metadata": {},
     "output_type": "execute_result"
    }
   ],
   "source": [
    "kings_nets['PCTIMESTRING']"
   ]
  },
  {
   "cell_type": "code",
   "execution_count": 33,
   "metadata": {
    "scrolled": false
   },
   "outputs": [
    {
     "data": {
      "text/plain": [
       "[<matplotlib.lines.Line2D at 0x1a43d3b9940>]"
      ]
     },
     "execution_count": 33,
     "metadata": {},
     "output_type": "execute_result"
    },
    {
     "data": {
      "image/png": "[encoded data removed]",
      "text/plain": [
       "<Figure size 432x288 with 1 Axes>"
      ]
     },
     "metadata": {
      "needs_background": "light"
     },
     "output_type": "display_data"
    }
   ],
   "source": [
    "plt.plot (kings_nets['PCTIMESTRING'],kings_nets['SCOREMARGIN'])"
   ]
  },
  {
   "cell_type": "code",
   "execution_count": 96,
   "metadata": {},
   "outputs": [],
   "source": [
    "df_t = pd.read_csv('../data/player_tracking.csv')"
   ]
  },
  {
   "cell_type": "code",
   "execution_count": 97,
   "metadata": {},
   "outputs": [
    {
     "data": {
      "text/html": [
       "<div>\n",
       "<style scoped>\n",
       "    .dataframe tbody tr th:only-of-type {\n",
       "        vertical-align: middle;\n",
       "    }\n",
       "\n",
       "    .dataframe tbody tr th {\n",
       "        vertical-align: top;\n",
       "    }\n",
       "\n",
       "    .dataframe thead th {\n",
       "        text-align: right;\n",
       "    }\n",
       "</style>\n",
       "<table border=\"1\" class=\"dataframe\">\n",
       "  <thead>\n",
       "    <tr style=\"text-align: right;\">\n",
       "      <th></th>\n",
       "      <th>GAME_ID</th>\n",
       "      <th>TEAM_ID</th>\n",
       "      <th>TEAM_ABBREVIATION</th>\n",
       "      <th>TEAM_CITY</th>\n",
       "      <th>PLAYER_ID</th>\n",
       "      <th>PLAYER_NAME</th>\n",
       "      <th>START_POSITION</th>\n",
       "      <th>COMMENT</th>\n",
       "      <th>MIN</th>\n",
       "      <th>SPD</th>\n",
       "      <th>...</th>\n",
       "      <th>CFGM</th>\n",
       "      <th>CFGA</th>\n",
       "      <th>CFG_PCT</th>\n",
       "      <th>UFGM</th>\n",
       "      <th>UFGA</th>\n",
       "      <th>UFG_PCT</th>\n",
       "      <th>FG_PCT</th>\n",
       "      <th>DFGM</th>\n",
       "      <th>DFGA</th>\n",
       "      <th>DFG_PCT</th>\n",
       "    </tr>\n",
       "  </thead>\n",
       "  <tbody>\n",
       "    <tr>\n",
       "      <th>0</th>\n",
       "      <td>22000482</td>\n",
       "      <td>1610612758</td>\n",
       "      <td>SAC</td>\n",
       "      <td>Sacramento</td>\n",
       "      <td>203084</td>\n",
       "      <td>Harrison Barnes</td>\n",
       "      <td>F</td>\n",
       "      <td>NaN</td>\n",
       "      <td>36:42</td>\n",
       "      <td>0.0</td>\n",
       "      <td>...</td>\n",
       "      <td>0</td>\n",
       "      <td>0</td>\n",
       "      <td>0.0</td>\n",
       "      <td>0</td>\n",
       "      <td>0</td>\n",
       "      <td>0.0</td>\n",
       "      <td>0.636</td>\n",
       "      <td>0</td>\n",
       "      <td>0</td>\n",
       "      <td>0.0</td>\n",
       "    </tr>\n",
       "    <tr>\n",
       "      <th>1</th>\n",
       "      <td>22000482</td>\n",
       "      <td>1610612758</td>\n",
       "      <td>SAC</td>\n",
       "      <td>Sacramento</td>\n",
       "      <td>1628963</td>\n",
       "      <td>Marvin Bagley III</td>\n",
       "      <td>F</td>\n",
       "      <td>NaN</td>\n",
       "      <td>30:13</td>\n",
       "      <td>0.0</td>\n",
       "      <td>...</td>\n",
       "      <td>0</td>\n",
       "      <td>0</td>\n",
       "      <td>0.0</td>\n",
       "      <td>0</td>\n",
       "      <td>0</td>\n",
       "      <td>0.0</td>\n",
       "      <td>0.500</td>\n",
       "      <td>0</td>\n",
       "      <td>0</td>\n",
       "      <td>0.0</td>\n",
       "    </tr>\n",
       "    <tr>\n",
       "      <th>2</th>\n",
       "      <td>22000482</td>\n",
       "      <td>1610612758</td>\n",
       "      <td>SAC</td>\n",
       "      <td>Sacramento</td>\n",
       "      <td>1626158</td>\n",
       "      <td>Richaun Holmes</td>\n",
       "      <td>C</td>\n",
       "      <td>NaN</td>\n",
       "      <td>26:17</td>\n",
       "      <td>0.0</td>\n",
       "      <td>...</td>\n",
       "      <td>0</td>\n",
       "      <td>0</td>\n",
       "      <td>0.0</td>\n",
       "      <td>0</td>\n",
       "      <td>0</td>\n",
       "      <td>0.0</td>\n",
       "      <td>0.750</td>\n",
       "      <td>0</td>\n",
       "      <td>0</td>\n",
       "      <td>0.0</td>\n",
       "    </tr>\n",
       "    <tr>\n",
       "      <th>3</th>\n",
       "      <td>22000482</td>\n",
       "      <td>1610612758</td>\n",
       "      <td>SAC</td>\n",
       "      <td>Sacramento</td>\n",
       "      <td>1627741</td>\n",
       "      <td>Buddy Hield</td>\n",
       "      <td>G</td>\n",
       "      <td>NaN</td>\n",
       "      <td>36:34</td>\n",
       "      <td>0.0</td>\n",
       "      <td>...</td>\n",
       "      <td>0</td>\n",
       "      <td>0</td>\n",
       "      <td>0.0</td>\n",
       "      <td>0</td>\n",
       "      <td>0</td>\n",
       "      <td>0.0</td>\n",
       "      <td>0.333</td>\n",
       "      <td>0</td>\n",
       "      <td>0</td>\n",
       "      <td>0.0</td>\n",
       "    </tr>\n",
       "    <tr>\n",
       "      <th>4</th>\n",
       "      <td>22000482</td>\n",
       "      <td>1610612758</td>\n",
       "      <td>SAC</td>\n",
       "      <td>Sacramento</td>\n",
       "      <td>1628368</td>\n",
       "      <td>De'Aaron Fox</td>\n",
       "      <td>G</td>\n",
       "      <td>NaN</td>\n",
       "      <td>38:29</td>\n",
       "      <td>0.0</td>\n",
       "      <td>...</td>\n",
       "      <td>0</td>\n",
       "      <td>0</td>\n",
       "      <td>0.0</td>\n",
       "      <td>0</td>\n",
       "      <td>0</td>\n",
       "      <td>0.0</td>\n",
       "      <td>0.500</td>\n",
       "      <td>0</td>\n",
       "      <td>0</td>\n",
       "      <td>0.0</td>\n",
       "    </tr>\n",
       "  </tbody>\n",
       "</table>\n",
       "<p>5 rows × 29 columns</p>\n",
       "</div>"
      ],
      "text/plain": [
       "    GAME_ID     TEAM_ID TEAM_ABBREVIATION   TEAM_CITY  PLAYER_ID  \\\n",
       "0  22000482  1610612758               SAC  Sacramento     203084   \n",
       "1  22000482  1610612758               SAC  Sacramento    1628963   \n",
       "2  22000482  1610612758               SAC  Sacramento    1626158   \n",
       "3  22000482  1610612758               SAC  Sacramento    1627741   \n",
       "4  22000482  1610612758               SAC  Sacramento    1628368   \n",
       "\n",
       "         PLAYER_NAME START_POSITION COMMENT    MIN  SPD  ...  CFGM  CFGA  \\\n",
       "0    Harrison Barnes              F     NaN  36:42  0.0  ...     0     0   \n",
       "1  Marvin Bagley III              F     NaN  30:13  0.0  ...     0     0   \n",
       "2     Richaun Holmes              C     NaN  26:17  0.0  ...     0     0   \n",
       "3        Buddy Hield              G     NaN  36:34  0.0  ...     0     0   \n",
       "4       De'Aaron Fox              G     NaN  38:29  0.0  ...     0     0   \n",
       "\n",
       "   CFG_PCT  UFGM  UFGA  UFG_PCT  FG_PCT  DFGM  DFGA  DFG_PCT  \n",
       "0      0.0     0     0      0.0   0.636     0     0      0.0  \n",
       "1      0.0     0     0      0.0   0.500     0     0      0.0  \n",
       "2      0.0     0     0      0.0   0.750     0     0      0.0  \n",
       "3      0.0     0     0      0.0   0.333     0     0      0.0  \n",
       "4      0.0     0     0      0.0   0.500     0     0      0.0  \n",
       "\n",
       "[5 rows x 29 columns]"
      ]
     },
     "execution_count": 97,
     "metadata": {},
     "output_type": "execute_result"
    }
   ],
   "source": [
    "df_t.head()"
   ]
  },
  {
   "cell_type": "code",
   "execution_count": 98,
   "metadata": {
    "scrolled": true
   },
   "outputs": [
    {
     "data": {
      "text/plain": [
       "GAME_ID                  0\n",
       "TEAM_ID                  0\n",
       "TEAM_ABBREVIATION        0\n",
       "TEAM_CITY                0\n",
       "PLAYER_ID                0\n",
       "PLAYER_NAME              0\n",
       "START_POSITION       15292\n",
       "COMMENT              19678\n",
       "MIN                      0\n",
       "SPD                      0\n",
       "DIST                     0\n",
       "ORBC                     0\n",
       "DRBC                     0\n",
       "RBC                      0\n",
       "TCHS                     0\n",
       "SAST                     0\n",
       "FTAST                    0\n",
       "PASS                     0\n",
       "AST                      0\n",
       "CFGM                     0\n",
       "CFGA                     0\n",
       "CFG_PCT                  0\n",
       "UFGM                     0\n",
       "UFGA                     0\n",
       "UFG_PCT                  0\n",
       "FG_PCT                   0\n",
       "DFGM                     0\n",
       "DFGA                     0\n",
       "DFG_PCT                  0\n",
       "dtype: int64"
      ]
     },
     "execution_count": 98,
     "metadata": {},
     "output_type": "execute_result"
    }
   ],
   "source": [
    "df_t.isna().sum()"
   ]
  },
  {
   "cell_type": "code",
   "execution_count": 108,
   "metadata": {},
   "outputs": [
    {
     "data": {
      "text/plain": [
       "GAME_ID                int64\n",
       "TEAM_ID                int64\n",
       "TEAM_ABBREVIATION     object\n",
       "TEAM_CITY             object\n",
       "PLAYER_ID              int64\n",
       "PLAYER_NAME           object\n",
       "START_POSITION        object\n",
       "COMMENT               object\n",
       "MIN                   object\n",
       "SPD                  float64\n",
       "DIST                 float64\n",
       "ORBC                   int64\n",
       "DRBC                   int64\n",
       "RBC                    int64\n",
       "TCHS                   int64\n",
       "SAST                   int64\n",
       "FTAST                  int64\n",
       "PASS                   int64\n",
       "AST                    int64\n",
       "CFGM                   int64\n",
       "CFGA                   int64\n",
       "CFG_PCT              float64\n",
       "UFGM                   int64\n",
       "UFGA                   int64\n",
       "UFG_PCT              float64\n",
       "FG_PCT               float64\n",
       "DFGM                   int64\n",
       "DFGA                   int64\n",
       "DFG_PCT              float64\n",
       "dtype: object"
      ]
     },
     "execution_count": 108,
     "metadata": {},
     "output_type": "execute_result"
    }
   ],
   "source": [
    "df_t.dtypes"
   ]
  },
  {
   "cell_type": "code",
   "execution_count": 153,
   "metadata": {},
   "outputs": [],
   "source": [
    "xcols=['SPD', 'DIST', 'ORBC', 'DRBC', 'RBC', 'TCHS', 'SAST', 'FTAST', 'PASS', 'AST', 'CFGA', 'CFG_PCT', 'UFGA', 'UFG_PCT', 'DFGA', 'DFG_PCT']"
   ]
  },
  {
   "cell_type": "code",
   "execution_count": 139,
   "metadata": {},
   "outputs": [],
   "source": [
    "X = df_t[['PLAYER_NAME','SPD', 'DIST', 'ORBC', 'DRBC', 'RBC', 'TCHS', 'SAST', 'FTAST', 'PASS', 'AST', 'CFGA', 'CFG_PCT', 'UFGA', 'UFG_PCT', 'DFGA', 'DFG_PCT']]"
   ]
  },
  {
   "cell_type": "code",
   "execution_count": 140,
   "metadata": {},
   "outputs": [],
   "source": [
    "X = X[X['SPD'] != 0]"
   ]
  },
  {
   "cell_type": "code",
   "execution_count": 188,
   "metadata": {},
   "outputs": [
    {
     "name": "stderr",
     "output_type": "stream",
     "text": [
      "<ipython-input-188-4dbab589c4f6>:1: FutureWarning: Indexing with multiple keys (implicitly converted to a tuple of keys) will be deprecated, use a list instead.\n",
      "  X = X.groupby('PLAYER_NAME')['SPD', 'RBC', 'TCHS', 'SAST', 'FTAST', 'PASS', 'AST', 'CFG_PCT', 'UFG_PCT', 'DFG_PCT'].mean()\n"
     ]
    }
   ],
   "source": [
    "X = X.groupby('PLAYER_NAME')['SPD', 'RBC', 'TCHS', 'SAST', 'FTAST', 'PASS', 'AST', 'CFG_PCT', 'UFG_PCT', 'DFG_PCT'].mean()"
   ]
  },
  {
   "cell_type": "code",
   "execution_count": 189,
   "metadata": {},
   "outputs": [],
   "source": [
    "ss = StandardScaler()"
   ]
  },
  {
   "cell_type": "code",
   "execution_count": 224,
   "metadata": {},
   "outputs": [],
   "source": [
    "Xs = ss.fit_transform(X)\n",
    "dbs = DBSCAN(eps=1, min_samples=3)"
   ]
  },
  {
   "cell_type": "code",
   "execution_count": 225,
   "metadata": {},
   "outputs": [
    {
     "data": {
      "text/plain": [
       "DBSCAN(eps=1, min_samples=3)"
      ]
     },
     "execution_count": 225,
     "metadata": {},
     "output_type": "execute_result"
    }
   ],
   "source": [
    "dbs.fit(Xs)"
   ]
  },
  {
   "cell_type": "code",
   "execution_count": 226,
   "metadata": {},
   "outputs": [],
   "source": [
    "X['cluster'] = dbs.labels_"
   ]
  },
  {
   "cell_type": "code",
   "execution_count": 227,
   "metadata": {
    "scrolled": false
   },
   "outputs": [
    {
     "data": {
      "text/plain": [
       "-0.41982615021112507"
      ]
     },
     "execution_count": 227,
     "metadata": {},
     "output_type": "execute_result"
    }
   ],
   "source": [
    "silhouette_score(X, dbs.labels_)"
   ]
  },
  {
   "cell_type": "code",
   "execution_count": 228,
   "metadata": {
    "scrolled": true
   },
   "outputs": [
    {
     "data": {
      "text/plain": [
       "array([ 0, -1,  1,  2,  3,  4, 47, 40,  5,  6, 16,  7, 72, 22, 60,  8, 32,\n",
       "        9, 23, 10, 11, 43, 12, 13, 58, 14, 15, 24, 63, 18, 17, 73, 19, 31,\n",
       "       20, 21, 25, 26, 27, 28, 29, 48, 30, 42, 54, 77, 38, 34, 37, 67, 33,\n",
       "       35, 36, 59, 51, 68, 70, 39, 41, 69, 46, 44, 45, 55, 65, 56, 74, 49,\n",
       "       57, 50, 52, 61, 53, 71, 75, 62, 66, 76, 64], dtype=int64)"
      ]
     },
     "execution_count": 228,
     "metadata": {},
     "output_type": "execute_result"
    }
   ],
   "source": [
    "df_t['cluster'].unique()"
   ]
  },
  {
   "cell_type": "code",
   "execution_count": 233,
   "metadata": {},
   "outputs": [
    {
     "data": {
      "text/plain": [
       "-1     0.613169\n",
       " 1     0.228395\n",
       " 2     0.026749\n",
       " 6     0.014403\n",
       " 13    0.012346\n",
       " 7     0.010288\n",
       " 4     0.010288\n",
       " 9     0.008230\n",
       " 0     0.008230\n",
       " 3     0.006173\n",
       " 5     0.006173\n",
       " 17    0.006173\n",
       " 16    0.006173\n",
       " 18    0.006173\n",
       " 10    0.006173\n",
       " 11    0.006173\n",
       " 12    0.006173\n",
       " 14    0.006173\n",
       " 15    0.006173\n",
       " 8     0.006173\n",
       "Name: cluster, dtype: float64"
      ]
     },
     "execution_count": 233,
     "metadata": {},
     "output_type": "execute_result"
    }
   ],
   "source": [
    "X['cluster'].value_counts(normalize=True)"
   ]
  },
  {
   "cell_type": "code",
   "execution_count": 231,
   "metadata": {},
   "outputs": [
    {
     "data": {
      "text/plain": [
       "PLAYER_NAME      cluster\n",
       "Aaron Gordon     -1         1\n",
       "Aaron Holiday    -1         1\n",
       "Aaron Nesmith    -1         1\n",
       "Abdel Nader      -1         1\n",
       "Adam Mokoka       0         1\n",
       "                           ..\n",
       "Yogi Ferrell     -1         1\n",
       "Yuta Watanabe    -1         1\n",
       "Zach LaVine      -1         1\n",
       "Zeke Nnaji        11        1\n",
       "Zion Williamson  -1         1\n",
       "Name: cluster, Length: 486, dtype: int64"
      ]
     },
     "execution_count": 231,
     "metadata": {},
     "output_type": "execute_result"
    }
   ],
   "source": [
    "X.groupby('PLAYER_NAME')['cluster'].value_counts()"
   ]
  },
  {
   "cell_type": "code",
   "execution_count": 238,
   "metadata": {
    "scrolled": true
   },
   "outputs": [
    {
     "data": {
      "text/plain": [
       "<AxesSubplot:xlabel='PLAYER_NAME', ylabel='cluster'>"
      ]
     },
     "execution_count": 238,
     "metadata": {},
     "output_type": "execute_result"
    },
    {
     "data": {
      "image/png": "[encoded data removed]",
      "text/plain": [
       "<Figure size 432x288 with 1 Axes>"
      ]
     },
     "metadata": {
      "needs_background": "light"
     },
     "output_type": "display_data"
    }
   ],
   "source": [
    "sns.scatterplot(data=X, x = X.index, y = X['cluster'])"
   ]
  },
  {
   "cell_type": "code",
   "execution_count": null,
   "metadata": {},
   "outputs": [],
   "source": []
  }
 ],
 "metadata": {
  "kernelspec": {
   "display_name": "Python 3",
   "language": "python",
   "name": "python3"
  },
  "language_info": {
   "codemirror_mode": {
    "name": "ipython",
    "version": 3
   },
   "file_extension": ".py",
   "mimetype": "text/x-python",
   "name": "python",
   "nbconvert_exporter": "python",
   "pygments_lexer": "ipython3",
   "version": "3.8.5"
  },
  "toc": {
   "base_numbering": 1,
   "nav_menu": {},
   "number_sections": true,
   "sideBar": true,
   "skip_h1_title": false,
   "title_cell": "Table of Contents",
   "title_sidebar": "Contents",
   "toc_cell": true,
   "toc_position": {},
   "toc_section_display": true,
   "toc_window_display": false
  }
 },
 "nbformat": 4,
 "nbformat_minor": 4
}
