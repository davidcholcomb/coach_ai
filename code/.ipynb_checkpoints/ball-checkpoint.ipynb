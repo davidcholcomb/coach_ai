{
 "cells": [
  {
   "cell_type": "markdown",
   "metadata": {
    "toc": true
   },
   "source": [
    "<h1>Table of Contents<span class=\"tocSkip\"></span></h1>\n",
    "<div class=\"toc\"><ul class=\"toc-item\"></ul></div>"
   ]
  },
  {
   "cell_type": "code",
   "execution_count": null,
   "metadata": {},
   "outputs": [],
   "source": [
    "#http://projectpython.net/chapter11/index.html\n",
    "class Ball:\n",
    "    def __init__(self, start_x, start_y, start_v_x, start_v_y, radius=.4, r = 0.5, g = 0.5, b = 0.5):\n",
    "        # Location and velocities of the ball.\n",
    "        self.x = start_x\n",
    "        self.y = start_y\n",
    "        self.v_x = start_v_x\n",
    "        self.v_y = start_v_y\n",
    "\n",
    "        self.radius = radius   # radius (in pixels)\n",
    "\n",
    "        # Color of the ball, for drawing purposes.\n",
    "        self.r = r\n",
    "        self.g = g\n",
    "        self.b = b\n",
    "\n",
    "    def update_position(self, timestep):\n",
    "        self.x = self.x + timestep * self.v_x\n",
    "        self.y = self.y + timestep * self.v_y\n",
    "\n",
    "    def update_velocity(self, timestep):\n",
    "        self.v_y = self.v_y + timestep * EARTH_GRAVITY_ACCELERATION\n",
    "\n",
    "    def animate_step(self, timestep):\n",
    "        self.update_position(timestep)\n",
    "        self.update_velocity(timestep)\n",
    "\n",
    "    # draw a ball, with scaling determined by ppu, pixels per unit\n",
    "    def draw(self, ppu, window_height):\n",
    "        disable_stroke()\n",
    "        set_fill_color(self.r, self.g, self.b)\n",
    "        draw_circle(self.x * ppu, window_height - self.y * ppu, self.radius * ppu)\n",
    "\n",
    "    def __str__(self):\n",
    "        return str(self.x) + \", \" + str(self.y)"
   ]
  }
 ],
 "metadata": {
  "kernelspec": {
   "display_name": "Python 3",
   "language": "python",
   "name": "python3"
  },
  "language_info": {
   "codemirror_mode": {
    "name": "ipython",
    "version": 3
   },
   "file_extension": ".py",
   "mimetype": "text/x-python",
   "name": "python",
   "nbconvert_exporter": "python",
   "pygments_lexer": "ipython3",
   "version": "3.8.5"
  },
  "toc": {
   "base_numbering": 1,
   "nav_menu": {},
   "number_sections": true,
   "sideBar": true,
   "skip_h1_title": false,
   "title_cell": "Table of Contents",
   "title_sidebar": "Contents",
   "toc_cell": true,
   "toc_position": {},
   "toc_section_display": true,
   "toc_window_display": false
  }
 },
 "nbformat": 4,
 "nbformat_minor": 4
}
