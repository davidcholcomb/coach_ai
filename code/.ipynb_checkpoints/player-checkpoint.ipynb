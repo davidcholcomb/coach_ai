{
 "cells": [
  {
   "cell_type": "markdown",
   "metadata": {
    "toc": true
   },
   "source": [
    "<h1>Table of Contents<span class=\"tocSkip\"></span></h1>\n",
    "<div class=\"toc\"><ul class=\"toc-item\"></ul></div>"
   ]
  },
  {
   "cell_type": "code",
   "execution_count": null,
   "metadata": {},
   "outputs": [],
   "source": [
    "#https://pythonspot.com/jump-and-run-in-pygame/\n",
    "class Player:\n",
    "    def __init__(self):\n",
    "    x = 10\n",
    "    y = 500\n",
    "    speed = 10\n",
    "\n",
    "    # Stores if player is jumping or not.\n",
    "    isjump = 0     \n",
    "    \n",
    "    # Force (v) up and mass m.\n",
    "    v = 8 \n",
    "    m = 2\n",
    "            \n",
    "    self.team = team\n",
    "    \n",
    "    def moveRight(self):\n",
    "        self.x = self.x + self.speed\n",
    " \n",
    "    def moveLeft(self):\n",
    "        self.x = self.x - self.speed\n",
    "    \n",
    "    def moveUp(self):\n",
    "        self.y = self.y + self.speed\n",
    " \n",
    "    def moveDown(self):\n",
    "        self.y = self.y - self.speed\n",
    "    \n",
    "    def jump(self):\n",
    "        self.isjump = 1\n",
    "\n",
    "    def update_jump(self):\n",
    "        if self.isjump:\n",
    "            # Calculate force (F). F = 0.5 * mass * velocity^2.\n",
    "            if self.v &gt; 0:\n",
    "                F = ( 0.5 * self.m * (self.v*self.v) )\n",
    "            else:\n",
    "                F = -( 0.5 * self.m * (self.v*self.v) )\n",
    "    \n",
    "            # Change position\n",
    "            self.y = self.y - F\n",
    "\n",
    "            # Change velocity\n",
    "            self.v = self.v - 1\n",
    "\n",
    "            # If ground is reached, reset variables.\n",
    "            if self.y &gt;= 500:\n",
    "                self.y = 500\n",
    "                self.isjump = 0\n",
    "                self.v = 8"
   ]
  }
 ],
 "metadata": {
  "kernelspec": {
   "display_name": "Python 3",
   "language": "python",
   "name": "python3"
  },
  "language_info": {
   "codemirror_mode": {
    "name": "ipython",
    "version": 3
   },
   "file_extension": ".py",
   "mimetype": "text/x-python",
   "name": "python",
   "nbconvert_exporter": "python",
   "pygments_lexer": "ipython3",
   "version": "3.8.5"
  },
  "toc": {
   "base_numbering": 1,
   "nav_menu": {},
   "number_sections": true,
   "sideBar": true,
   "skip_h1_title": false,
   "title_cell": "Table of Contents",
   "title_sidebar": "Contents",
   "toc_cell": true,
   "toc_position": {},
   "toc_section_display": true,
   "toc_window_display": false
  }
 },
 "nbformat": 4,
 "nbformat_minor": 4
}
