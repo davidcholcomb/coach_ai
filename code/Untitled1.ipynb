{
 "cells": [
  {
   "cell_type": "markdown",
   "metadata": {
    "toc": true
   },
   "source": [
    "<h1>Table of Contents<span class=\"tocSkip\"></span></h1>\n",
    "<div class=\"toc\"><ul class=\"toc-item\"></ul></div>"
   ]
  },
  {
   "cell_type": "code",
   "execution_count": 3,
   "metadata": {
    "scrolled": true
   },
   "outputs": [],
   "source": [
    "import random\n",
    "import time"
   ]
  },
  {
   "cell_type": "code",
   "execution_count": 12,
   "metadata": {},
   "outputs": [],
   "source": [
    "#https://www.geeksforgeeks.org/how-to-create-a-countdown-timer-using-python/\n",
    "def countdown(t): \n",
    "    \n",
    "    while t: \n",
    "        mins, secs = divmod(t, 60) \n",
    "        timer = '{:02d}:{:02d}'.format(mins, secs) \n",
    "        print(timer, end=\"\\r\") \n",
    "        time.sleep(1) \n",
    "        t -= 1\n",
    "      \n",
    "    print('Game!') "
   ]
  },
  {
   "cell_type": "code",
   "execution_count": null,
   "metadata": {},
   "outputs": [],
   "source": [
    "class Environment:\n",
    "    SIZE = [50, 94]\n",
    "    GOAL_A = [25, 5.25]\n",
    "    GOAL_B = [25, 94-5.25]\n",
    "    BALL \n",
    "    \n",
    "    \n",
    "    def __init__(self):\n",
    "        self.time_left = countdown(300)\n",
    "#    self.x = 0\n",
    "#    self.y = 0\n",
    "    # random starting state\n",
    "        self.x = 44\n",
    "        self.y = 25\n",
    "        \n",
    "    #Countdown timer as game clock\n",
    "    #https://www.geeksforgeeks.org/how-to-create-a-countdown-timer-using-python/\n",
    "    def countdown(t=300):     \n",
    "        while t: \n",
    "            mins, secs = divmod(t, 60) \n",
    "            timer = '{:02d}:{:02d}'.format(mins, secs)  \n",
    "            time.sleep(1) \n",
    "            t -= 1\n",
    "            return t \n",
    "\n",
    "    def num_states(self):\n",
    "        return self.SIZE*self.SIZE\n",
    "\n",
    "    def num_actions(self):\n",
    "        return 4\n",
    "\n",
    "    def get_observation(self):\n",
    "        return [self.x, self.y]\n",
    "\n",
    "    def get_state_num(self):\n",
    "        return self.x*self.SIZE + self.y\n",
    "\n",
    "    def get_pos_from_state_num(self, state_num):\n",
    "        return (state_num // self.SIZE, state_num % self.SIZE)\n",
    "\n",
    "    def has_ball(self):\n",
    "        if self.x == ball.x and self.y == ball.y:\n",
    "            return True\n",
    "        return False\n",
    "    \n",
    "    def has_dribble:\n",
    "        \n",
    "    \n",
    "    def get_actions(self):\n",
    "        if has_ball == False:\n",
    "            return [\"up\", \"down\", \"left\", \"right\"]\n",
    "        if has_ball == True and has_dribble == True:\n",
    "            return ['pass', 'shoot', 'up', 'down', 'left', 'right']\n",
    "\n",
    "    def is_done(self):\n",
    "        return self.time_left == 0\n",
    "\n",
    "    def at_goal(self):\n",
    "        return self.x == self.GOAL[0] and self.y == self.GOAL[1]\n",
    "\n",
    "    def is_clear(self, x, y):\n",
    "        for w in self.WALLS:\n",
    "            if x == w[0] and y == w[1]:\n",
    "            return False\n",
    "        return True\n",
    "\n",
    "    def action(self, action):\n",
    "        if self.is_done():\n",
    "            raise Exception(\"Episode is already over\")\n",
    "        self.steps_left -= 1\n",
    "        if action == \"up\" and self.y > 0:\n",
    "            if self.is_clear(self.x, self.y-1):\n",
    "            self.y -= 1\n",
    "        elif action == \"down\" and self.y < self.SIZE-1:\n",
    "            if self.is_clear(self.x, self.y+1):\n",
    "            self.y += 1\n",
    "        elif action == \"left\" and self.x > 0:\n",
    "            if self.is_clear(self.x-1, self.y):\n",
    "            self.x -= 1\n",
    "        elif action == \"right\" and self.x < self.SIZE-1:\n",
    "            if self.is_clear(self.x+1, self.y):\n",
    "            self.x += 1\n",
    "\n",
    "        if self.x == self.GOAL[0] and self.y == self.GOAL[1]:\n",
    "            return 1.0\n",
    "        return 0.0"
   ]
  }
 ],
 "metadata": {
  "kernelspec": {
   "display_name": "Python 3",
   "language": "python",
   "name": "python3"
  },
  "language_info": {
   "codemirror_mode": {
    "name": "ipython",
    "version": 3
   },
   "file_extension": ".py",
   "mimetype": "text/x-python",
   "name": "python",
   "nbconvert_exporter": "python",
   "pygments_lexer": "ipython3",
   "version": "3.8.5"
  },
  "toc": {
   "base_numbering": 1,
   "nav_menu": {},
   "number_sections": true,
   "sideBar": true,
   "skip_h1_title": false,
   "title_cell": "Table of Contents",
   "title_sidebar": "Contents",
   "toc_cell": true,
   "toc_position": {},
   "toc_section_display": true,
   "toc_window_display": false
  }
 },
 "nbformat": 4,
 "nbformat_minor": 4
}
